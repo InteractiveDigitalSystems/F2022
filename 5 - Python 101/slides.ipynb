{
 "cells": [
  {
   "cell_type": "markdown",
   "metadata": {
    "slideshow": {
     "slide_type": "slide"
    }
   },
   "source": [
    "# IDS - Introduction to Python"
   ]
  },
  {
   "cell_type": "code",
   "execution_count": null,
   "metadata": {},
   "outputs": [],
   "source": []
  },
  {
   "cell_type": "markdown",
   "metadata": {
    "slideshow": {
     "slide_type": "subslide"
    }
   },
   "source": [
    "## What is Python?\n",
    "* High-level\n",
    "* General purpose\n",
    "* Interpreted"
   ]
  },
  {
   "cell_type": "markdown",
   "metadata": {
    "slideshow": {
     "slide_type": "notes"
    }
   },
   "source": [
    "* A high-level language (HLL) is a programming language such as C, Javascript, or Java that enables a programmer to write programs that are more or less independent of a particular type of computer.\n",
    "* Interpteted languages are not directly translated or compiled into machine code. Instead a different program (interpreter) interprets, read and executes the code.\n",
    "    * Compiled languages are usually faster and more efficient.\n",
    "    * Interpreted languages can be more flexible and with smaller program sizes."
   ]
  },
  {
   "cell_type": "markdown",
   "metadata": {
    "slideshow": {
     "slide_type": "subslide"
    }
   },
   "source": [
    "### Why learn multiple languages?\n",
    "* Teaching you to be language agnostic.\n",
    "* Picking the right tool for the right job.\n",
    "* Learning from the differences of programming languages."
   ]
  },
  {
   "cell_type": "markdown",
   "metadata": {
    "slideshow": {
     "slide_type": "notes"
    }
   },
   "source": [
    "Language agnostic doesn't mean that you don't know languages, but that you don't care for _a_ specific one. Picking whatever programming language that works best for a given task or job."
   ]
  },
  {
   "cell_type": "markdown",
   "metadata": {
    "slideshow": {
     "slide_type": "subslide"
    }
   },
   "source": [
    "### Why Python?"
   ]
  },
  {
   "cell_type": "markdown",
   "metadata": {
    "slideshow": {
     "slide_type": "notes"
    }
   },
   "source": [
    "Before talking about what Python is, let's discuss why it's nice to learn!"
   ]
  },
  {
   "cell_type": "markdown",
   "metadata": {
    "slideshow": {
     "slide_type": "fragment"
    }
   },
   "source": [
    "* Very versatile and flexible (data science, machine learning, software development)\n",
    "* Can do very complex things\n",
    "* Easy to learn\n",
    "* Well liked!"
   ]
  },
  {
   "cell_type": "markdown",
   "metadata": {
    "slideshow": {
     "slide_type": "notes"
    }
   },
   "source": [
    "Python is considered a scripting language, which means that it's often good for small tasks, minimal setup is required  and doesn't need a dedicated IDE."
   ]
  },
  {
   "cell_type": "markdown",
   "metadata": {
    "slideshow": {
     "slide_type": "subslide"
    }
   },
   "source": [
    "![title](images/loved_languages.png)\n",
    "[Most Loved Languages - Stack Overflow Annual Developer Survey (2020)](https://insights.stackoverflow.com/survey/2020)"
   ]
  },
  {
   "cell_type": "markdown",
   "metadata": {
    "slideshow": {
     "slide_type": "slide"
    }
   },
   "source": [
    "### Learning Python\n",
    "Today we will touch upon the following:\n",
    "* Python basics (Running a Python script)\n",
    "* Flow Control (if-else)\n",
    "* Functions\n",
    "* Lists\n",
    "* Dictionaries\n",
    "\n",
    "_Lots of examples and excerpts are from [Automate the Boring Stuff](https://automatetheboringstuff.com/2e/chapter0/)_"
   ]
  },
  {
   "cell_type": "markdown",
   "metadata": {
    "slideshow": {
     "slide_type": "subslide"
    }
   },
   "source": [
    "### How to learn programming!\n",
    "![title](images/thinking_about_coding.JPG)\n"
   ]
  },
  {
   "cell_type": "markdown",
   "metadata": {
    "slideshow": {
     "slide_type": "subslide"
    }
   },
   "source": [
    "#### Make exercises and experiments!\n",
    "#### Save your solutions!\n",
    "#### Ask questions!\n",
    "#### Search!\n",
    "#### Learn by doing!"
   ]
  },
  {
   "cell_type": "markdown",
   "metadata": {
    "slideshow": {
     "slide_type": "notes"
    }
   },
   "source": [
    "You have to get your hands dirty to learn this, which is why we'll add exercises and hand-ins for the course. It's your responsibility to ask questions if something doesn't make sense and we'll slow down and go through it oncemore."
   ]
  },
  {
   "cell_type": "markdown",
   "metadata": {
    "slideshow": {
     "slide_type": "subslide"
    }
   },
   "source": [
    "#### Hello World!"
   ]
  },
  {
   "cell_type": "code",
   "execution_count": 6,
   "metadata": {
    "slideshow": {
     "slide_type": "fragment"
    }
   },
   "outputs": [
    {
     "name": "stdout",
     "output_type": "stream",
     "text": [
      "Hello, World!\n"
     ]
    }
   ],
   "source": [
    "print('Hello, World!')"
   ]
  },
  {
   "cell_type": "markdown",
   "metadata": {
    "slideshow": {
     "slide_type": "fragment"
    }
   },
   "source": [
    "No boiler plate code, straight forward."
   ]
  },
  {
   "cell_type": "markdown",
   "metadata": {
    "slideshow": {
     "slide_type": "fragment"
    }
   },
   "source": [
    "`\"Hello, World!\"` in Java."
   ]
  },
  {
   "cell_type": "markdown",
   "metadata": {
    "slideshow": {
     "slide_type": "fragment"
    }
   },
   "source": [
    "```java\n",
    "class HelloWorld {\n",
    "    public static void main(String[] args) {\n",
    "        System.out.println(\"Hello, World!\"); \n",
    "    }\n",
    "}\n",
    "```"
   ]
  },
  {
   "cell_type": "markdown",
   "metadata": {
    "slideshow": {
     "slide_type": "subslide"
    }
   },
   "source": [
    "### Running a Python script"
   ]
  },
  {
   "cell_type": "markdown",
   "metadata": {
    "slideshow": {
     "slide_type": "fragment"
    }
   },
   "source": [
    "From the terminal. Save your program as e.g. `myprogram.py` and run from terminal using:\n",
    "```\n",
    "python3 myprogram.py\n",
    "```"
   ]
  },
  {
   "cell_type": "markdown",
   "metadata": {
    "slideshow": {
     "slide_type": "subslide"
    }
   },
   "source": [
    "#### Pros and cons of different approaches to running"
   ]
  },
  {
   "cell_type": "markdown",
   "metadata": {
    "slideshow": {
     "slide_type": "notes"
    }
   },
   "source": [
    "VS Code example, interactive code cells, running from terminal"
   ]
  },
  {
   "cell_type": "markdown",
   "metadata": {
    "slideshow": {
     "slide_type": "subslide"
    }
   },
   "source": [
    "#### Dynamic typing"
   ]
  },
  {
   "cell_type": "code",
   "execution_count": null,
   "metadata": {
    "slideshow": {
     "slide_type": "notes"
    }
   },
   "outputs": [],
   "source": [
    "a = 2 # not necessary to declare type\n",
    "# opposed to java"
   ]
  },
  {
   "cell_type": "markdown",
   "metadata": {
    "slideshow": {
     "slide_type": "notes"
    }
   },
   "source": [
    "Static typing is when variable types are known at compile time. With dynamic typing a variables type is set at run-time"
   ]
  },
  {
   "cell_type": "markdown",
   "metadata": {
    "slideshow": {
     "slide_type": "fragment"
    }
   },
   "source": [
    "__Pros__ of dynamic typing:\n",
    "* Deals naturally with certain types of self-describing data.\n",
    "* Code can be use polymorphically\n",
    "* Tends to reduce unnecessary clutter"
   ]
  },
  {
   "cell_type": "markdown",
   "metadata": {
    "slideshow": {
     "slide_type": "fragment"
    }
   },
   "source": [
    "__Cons__ of dynamic typing:\n",
    "* More errors at run-time\n",
    "* More errors detected late\n",
    "* Can give worse performing code than compiled languages"
   ]
  },
  {
   "cell_type": "markdown",
   "metadata": {
    "slideshow": {
     "slide_type": "subslide"
    }
   },
   "source": [
    "##### Example"
   ]
  },
  {
   "cell_type": "code",
   "execution_count": 7,
   "metadata": {},
   "outputs": [
    {
     "name": "stdout",
     "output_type": "stream",
     "text": [
      "<class 'list'>\n",
      "<class 'bool'>\n"
     ]
    }
   ],
   "source": [
    "## assigning a value to a variable\n",
    "x = [1, 2, 3]\n",
    "\n",
    "## x is a list here\n",
    "print(type(x))\n",
    "\n",
    "## reassigning a value to the 'x'\n",
    "x = True\n",
    "\n",
    "## x is a boolean here\n",
    "print(type(x))"
   ]
  },
  {
   "cell_type": "markdown",
   "metadata": {
    "slideshow": {
     "slide_type": "subslide"
    }
   },
   "source": [
    "Python supports your classic basic data types:"
   ]
  },
  {
   "cell_type": "code",
   "execution_count": 8,
   "metadata": {
    "slideshow": {
     "slide_type": "fragment"
    }
   },
   "outputs": [
    {
     "name": "stdout",
     "output_type": "stream",
     "text": [
      "<class 'int'>\n"
     ]
    }
   ],
   "source": [
    "a = 2 # integer\n",
    "b = 2.0 # float\n",
    "c = '2' # string\n",
    "d = int(c)\n",
    "print(type(d)) # to get the int value of a variable use int()"
   ]
  },
  {
   "cell_type": "markdown",
   "metadata": {
    "slideshow": {
     "slide_type": "slide"
    }
   },
   "source": [
    "## Program flow\n",
    "* Printing\n",
    "* Boolean values\n",
    "* Comparison \n",
    "* Conditions (if, else, elif)\n",
    "* while-loops\n",
    "* for-loops "
   ]
  },
  {
   "cell_type": "markdown",
   "metadata": {
    "slideshow": {
     "slide_type": "notes"
    }
   },
   "source": [
    "We'll go through these concepts expecting that you are familiar with these terms from your essential computing 1 course. So we'll rush through, focus on syntax and if this is very foreign to you, make a quick note and read up on the concepts at home or ask me now!"
   ]
  },
  {
   "cell_type": "markdown",
   "metadata": {
    "slideshow": {
     "slide_type": "slide"
    }
   },
   "source": [
    "### Printing to the console"
   ]
  },
  {
   "cell_type": "markdown",
   "metadata": {
    "slideshow": {
     "slide_type": "slide"
    }
   },
   "source": [
    "###  Using f-string\n",
    "Using f-strings in considered the modern way of handling strings in python\n",
    "[More about f-strings](https://docs.python.org/3/tutorial/inputoutput.html)\n",
    "\n",
    "F-strings elegantly handles variables in the string and has escape sequences"
   ]
  },
  {
   "cell_type": "code",
   "execution_count": 15,
   "metadata": {
    "slideshow": {
     "slide_type": "fragment"
    }
   },
   "outputs": [
    {
     "name": "stdout",
     "output_type": "stream",
     "text": [
      "The person called 'John doe' is 36 years old\n",
      "The person called 'John doe' is 36 years old\n"
     ]
    }
   ],
   "source": [
    "name = \"John doe\"\n",
    "age = 36\n",
    "print (f'The person called \\'{name}\\' is {age} years old')\n",
    "print('The person called \\'' + name + '\\' is ' + str(age) + ' years old')"
   ]
  },
  {
   "cell_type": "markdown",
   "metadata": {
    "slideshow": {
     "slide_type": "slide"
    }
   },
   "source": [
    "f-strings also supports formatting of numbers and text:"
   ]
  },
  {
   "cell_type": "code",
   "execution_count": 16,
   "metadata": {
    "slideshow": {
     "slide_type": "fragment"
    }
   },
   "outputs": [
    {
     "name": "stdout",
     "output_type": "stream",
     "text": [
      "pi is 3.141592653589793\n",
      "pi with only 3 decimals: 3.142\n"
     ]
    }
   ],
   "source": [
    "import math\n",
    "pi = math.pi\n",
    "print (f'pi is {pi}')\n",
    "print (f'pi with only 3 decimals: {pi:.3f}')"
   ]
  },
  {
   "cell_type": "markdown",
   "metadata": {
    "slideshow": {
     "slide_type": "slide"
    }
   },
   "source": [
    "strings can be handled as a list without any conversion"
   ]
  },
  {
   "cell_type": "code",
   "execution_count": 20,
   "metadata": {
    "scrolled": true,
    "slideshow": {
     "slide_type": "fragment"
    }
   },
   "outputs": [
    {
     "name": "stdout",
     "output_type": "stream",
     "text": [
      "J. Dow is the man!\n"
     ]
    }
   ],
   "source": [
    "name = \"John Dow\"\n",
    "print(f'{name[0]}. {name[5:]} is the man!')"
   ]
  },
  {
   "cell_type": "markdown",
   "metadata": {
    "slideshow": {
     "slide_type": "slide"
    }
   },
   "source": [
    "You can also replace elements in the string"
   ]
  },
  {
   "cell_type": "code",
   "execution_count": 22,
   "metadata": {
    "slideshow": {
     "slide_type": "fragment"
    }
   },
   "outputs": [
    {
     "name": "stdout",
     "output_type": "stream",
     "text": [
      ".-= weird names? =-.\n",
      "\n",
      "\n",
      "Fanoriedeanoriik \n",
      "& \n",
      "Clanoanoriano\n"
     ]
    }
   ],
   "source": [
    "name = \"Frederik \\n& \\nClara\"\n",
    "print (\".-= weird names? =-.\\n\\n\")\n",
    "print(name. \n",
    "      replace('o', 'olu').\n",
    "      replace('r', 'ari').\n",
    "      replace('u', 'uno').\n",
    "      replace('b','ibi').\n",
    "      replace('a', 'ano'))"
   ]
  },
  {
   "cell_type": "markdown",
   "metadata": {
    "slideshow": {
     "slide_type": "subslide"
    }
   },
   "source": [
    "### Boolean values"
   ]
  },
  {
   "cell_type": "code",
   "execution_count": 23,
   "metadata": {
    "slideshow": {
     "slide_type": "fragment"
    }
   },
   "outputs": [],
   "source": [
    "# boolean values are either True or False\n",
    "a = True\n",
    "b = False"
   ]
  },
  {
   "cell_type": "markdown",
   "metadata": {
    "slideshow": {
     "slide_type": "subslide"
    }
   },
   "source": [
    "### Comparison operators"
   ]
  },
  {
   "cell_type": "markdown",
   "metadata": {
    "slideshow": {
     "slide_type": "fragment"
    }
   },
   "source": [
    "| Operator | Meaning                  |\n",
    "|----------|--------------------------|\n",
    "| `==`     | Equal to                 |\n",
    "| `!=`     | Not equal to             |\n",
    "| `<`      | Less than                |\n",
    "| `>`      | Greater than             |\n",
    "| `<=`     | Less than or equal to    |\n",
    "| `>=`     | Greater than or equal to |"
   ]
  },
  {
   "cell_type": "markdown",
   "metadata": {
    "slideshow": {
     "slide_type": "subslide"
    }
   },
   "source": [
    "Comparison operators can also work on more complex data types e.g. strings and lists"
   ]
  },
  {
   "cell_type": "code",
   "execution_count": 24,
   "metadata": {
    "slideshow": {
     "slide_type": "fragment"
    }
   },
   "outputs": [
    {
     "data": {
      "text/plain": [
       "True"
      ]
     },
     "execution_count": 24,
     "metadata": {},
     "output_type": "execute_result"
    }
   ],
   "source": [
    "[1, 2] == [1, 2]     # prints true\n",
    "[1, 3] != [1, 2]     # prints true\n",
    "'string' == 'sTring' # prints false\n",
    "'STRINg' != 'STRING' # prints true"
   ]
  },
  {
   "cell_type": "markdown",
   "metadata": {
    "slideshow": {
     "slide_type": "subslide"
    }
   },
   "source": [
    "### The `is` operator\n",
    "Python also has an `is` operator. `is` also compares variables, but their object id and **not** their value!"
   ]
  },
  {
   "cell_type": "code",
   "execution_count": 27,
   "metadata": {
    "slideshow": {
     "slide_type": "fragment"
    }
   },
   "outputs": [
    {
     "data": {
      "text/plain": [
       "False"
      ]
     },
     "execution_count": 27,
     "metadata": {},
     "output_type": "execute_result"
    }
   ],
   "source": [
    "a = [1,2]\n",
    "b = [1,2]\n",
    "a is b"
   ]
  },
  {
   "cell_type": "code",
   "execution_count": 28,
   "metadata": {
    "slideshow": {
     "slide_type": "subslide"
    }
   },
   "outputs": [
    {
     "data": {
      "text/plain": [
       "True"
      ]
     },
     "execution_count": 28,
     "metadata": {},
     "output_type": "execute_result"
    }
   ],
   "source": [
    "a = 1  \n",
    "b = 1\n",
    "a is b"
   ]
  },
  {
   "cell_type": "code",
   "execution_count": null,
   "metadata": {
    "slideshow": {
     "slide_type": "fragment"
    }
   },
   "outputs": [],
   "source": [
    "a = 257\n",
    "b = 257\n",
    "a is b"
   ]
  },
  {
   "cell_type": "markdown",
   "metadata": {
    "slideshow": {
     "slide_type": "subslide"
    }
   },
   "source": [
    "Never use `is` for integer comparison! The weirdness above is due to Python's inner-workings, where:\n",
    "```\n",
    "The current implementation keeps an array of integer objects for all integers between -5 and 256, when you create an int in that range you actually just get back a reference to the existing object\n",
    "``` \n",
    "\n",
    "From the [Python3 documentation](https://docs.python.org/3/c-api/long.html)"
   ]
  },
  {
   "cell_type": "markdown",
   "metadata": {
    "slideshow": {
     "slide_type": "notes"
    }
   },
   "source": [
    "Later in this course we'll go through when to use `is`."
   ]
  },
  {
   "cell_type": "markdown",
   "metadata": {
    "slideshow": {
     "slide_type": "subslide"
    }
   },
   "source": [
    "### Conditions\n",
    "Conditions can always be evaluated as a Boolean value. Essential program flow and usage in e.g. `if`-statements:"
   ]
  },
  {
   "cell_type": "code",
   "execution_count": 29,
   "metadata": {
    "slideshow": {
     "slide_type": "fragment"
    }
   },
   "outputs": [
    {
     "name": "stdout",
     "output_type": "stream",
     "text": [
      "Number is higher than 2\n"
     ]
    }
   ],
   "source": [
    "a = 5\n",
    "if a > 2:\n",
    "    print('Number is higher than 2')"
   ]
  },
  {
   "cell_type": "markdown",
   "metadata": {
    "slideshow": {
     "slide_type": "notes"
    }
   },
   "source": [
    "Wowowowowo, what's going on here with indentation?"
   ]
  },
  {
   "cell_type": "markdown",
   "metadata": {
    "slideshow": {
     "slide_type": "subslide"
    }
   },
   "source": [
    "### Indentation and code blocks in Python\n",
    "Instead of using `{`and `}` as we know from Java, we use indentation for collecting statements in blocks. Blocks start with indentation and ends with unindentation. This can be nested:"
   ]
  },
  {
   "cell_type": "code",
   "execution_count": 32,
   "metadata": {
    "slideshow": {
     "slide_type": "fragment"
    }
   },
   "outputs": [
    {
     "name": "stdout",
     "output_type": "stream",
     "text": [
      "Number is higher than 2\n",
      "... and number is higher than 4 too!\n"
     ]
    }
   ],
   "source": [
    "a = 5 \n",
    "if a > 2:\n",
    "    print('Number is higher than 2')\n",
    "    if a > 4:\n",
    "        print('... and number is higher than 4 too!')"
   ]
  },
  {
   "cell_type": "markdown",
   "metadata": {
    "slideshow": {
     "slide_type": "subslide"
    }
   },
   "source": [
    "Indentation is where things can get messy! Avoid a lot of nested statements and be mindful of `IndentationError`"
   ]
  },
  {
   "cell_type": "code",
   "execution_count": 33,
   "metadata": {},
   "outputs": [],
   "source": [
    "a = 1"
   ]
  },
  {
   "cell_type": "code",
   "execution_count": 39,
   "metadata": {
    "slideshow": {
     "slide_type": "fragment"
    }
   },
   "outputs": [
    {
     "name": "stdout",
     "output_type": "stream",
     "text": [
      "less than 2\n"
     ]
    }
   ],
   "source": [
    "if a > 2:\n",
    "    print('Number is higher than 2')\n",
    "else:  \n",
    "    print('less than 2')"
   ]
  },
  {
   "cell_type": "markdown",
   "metadata": {
    "slideshow": {
     "slide_type": "subslide"
    }
   },
   "source": [
    "### ... back to if Statements!\n",
    "Will execute a block of code if the statement is `True`. We can also do else"
   ]
  },
  {
   "cell_type": "code",
   "execution_count": 40,
   "metadata": {
    "slideshow": {
     "slide_type": "fragment"
    }
   },
   "outputs": [
    {
     "name": "stdout",
     "output_type": "stream",
     "text": [
      "Smaller than two!\n"
     ]
    }
   ],
   "source": [
    "if a > 2:\n",
    "    print('Larger than two')\n",
    "else:\n",
    "    print('Smaller than two!')"
   ]
  },
  {
   "cell_type": "markdown",
   "metadata": {
    "slideshow": {
     "slide_type": "subslide"
    }
   },
   "source": [
    "### __elif__ Statements\n",
    "Only executes if a previous statements were `False`! Similar to Java's else-if:"
   ]
  },
  {
   "cell_type": "code",
   "execution_count": 41,
   "metadata": {
    "slideshow": {
     "slide_type": "fragment"
    }
   },
   "outputs": [
    {
     "name": "stdout",
     "output_type": "stream",
     "text": [
      "Negative number\n"
     ]
    }
   ],
   "source": [
    "num = -4\n",
    "if num > 0:\n",
    "    print(\"Positive number\")\n",
    "elif num == 0:\n",
    "    print(\"Zero\")\n",
    "else:\n",
    "    print(\"Negative number\")"
   ]
  },
  {
   "cell_type": "markdown",
   "metadata": {
    "slideshow": {
     "slide_type": "subslide"
    }
   },
   "source": [
    "![title](images/if_elif_else_statement.jpg)\n",
    "_Flowchart from [programiz](https://www.programiz.com/python-programming/if-elif-else)_"
   ]
  },
  {
   "cell_type": "markdown",
   "metadata": {
    "slideshow": {
     "slide_type": "slide"
    }
   },
   "source": [
    "### _while_ loops\n",
    "Executes a block of code as long as a statement is `True`. Always consists of:\n",
    "1. `while` keyword\n",
    "2. a condition\n",
    "3. a colon `:`\n",
    "4. indented code"
   ]
  },
  {
   "cell_type": "code",
   "execution_count": null,
   "metadata": {
    "slideshow": {
     "slide_type": "fragment"
    }
   },
   "outputs": [],
   "source": [
    "a = True\n",
    "while a:\n",
    "    print('Hello, World!')"
   ]
  },
  {
   "cell_type": "code",
   "execution_count": 42,
   "metadata": {
    "slideshow": {
     "slide_type": "subslide"
    }
   },
   "outputs": [
    {
     "name": "stdout",
     "output_type": "stream",
     "text": [
      "Please type your name\n",
      "Frede\n",
      "Please type your name\n",
      "Frederik\n",
      "Thank you, Frederik!\n"
     ]
    }
   ],
   "source": [
    "# from automatetheboringstuff.com\n",
    "name = ''\n",
    "while name != \"Frederik\":\n",
    "    print('Please type your name')\n",
    "    name = input()\n",
    "print('Thank you, ' + name + '!')"
   ]
  },
  {
   "cell_type": "markdown",
   "metadata": {
    "slideshow": {
     "slide_type": "fragment"
    }
   },
   "source": [
    "#### `input()`"
   ]
  },
  {
   "cell_type": "markdown",
   "metadata": {
    "slideshow": {
     "slide_type": "subslide"
    }
   },
   "source": [
    "#### `break` from loops\n",
    "You can use the keyword `break` to break out of loops. When `break`is reached, a loop is exited."
   ]
  },
  {
   "cell_type": "code",
   "execution_count": 43,
   "metadata": {
    "slideshow": {
     "slide_type": "fragment"
    }
   },
   "outputs": [
    {
     "name": "stdout",
     "output_type": "stream",
     "text": [
      "Enter the number 18\n",
      "17\n",
      "Enter the number 18\n",
      "199\n",
      "Enter the number 18\n",
      "100\n",
      "Enter the number 18\n",
      "18\n"
     ]
    }
   ],
   "source": [
    "while True:\n",
    "    print('Enter the number 18')\n",
    "    num = input()\n",
    "    if int(num) == 18: # notice the casting to int\n",
    "        break"
   ]
  },
  {
   "cell_type": "markdown",
   "metadata": {
    "slideshow": {
     "slide_type": "slide"
    }
   },
   "source": [
    "# Exercises 1\n",
    "* Make a \"guess the number game\", where you break out of a `while` loop if the users guesses a number between 1 and 10. Use the code below:\n",
    "* Make it between 1 and 100 and give feedback if the user is too high or too low:"
   ]
  },
  {
   "cell_type": "code",
   "execution_count": 46,
   "metadata": {},
   "outputs": [
    {
     "name": "stdout",
     "output_type": "stream",
     "text": [
      "10\n"
     ]
    }
   ],
   "source": [
    "import random\n",
    "print(random.randint(0,10)) # first argument is start, second is stop"
   ]
  },
  {
   "cell_type": "markdown",
   "metadata": {
    "slideshow": {
     "slide_type": "subslide"
    }
   },
   "source": [
    "### _for loops_ and using `range()`\n",
    "`for` loops can be used for executing a block a certain number of times or iterating through all elements in a container. In the case of the former, we need the following elements:\n",
    "1. `for` keyword\n",
    "2. variable name\n",
    "3. `in` keyword\n",
    "4. calling the `range()` method\n",
    "5. a colon `:`\n",
    "6. an indented code block\n"
   ]
  },
  {
   "cell_type": "markdown",
   "metadata": {
    "slideshow": {
     "slide_type": "subslide"
    }
   },
   "source": [
    "##### what is `range()`?\n",
    "```\n",
    "The range type represents an immutable sequence of numbers and is commonly used for looping a specific number of times in for loops.\n",
    "```\n",
    "[Python docs](https://docs.python.org/3/library/stdtypes.html#typesseq-range)\n",
    "\n",
    "`range()` is an overloaded method and can thereby take different number of input arguments. It's usually used as `range(stop)`, but can also be used as `range(start, stop)` or `range(start, stop, step)`"
   ]
  },
  {
   "cell_type": "code",
   "execution_count": 49,
   "metadata": {
    "slideshow": {
     "slide_type": "fragment"
    }
   },
   "outputs": [
    {
     "name": "stdout",
     "output_type": "stream",
     "text": [
      "[0, 1, 2, 3, 4, 5, 6, 7, 8, 9]\n",
      "[1, 2, 3, 4, 5, 6, 7, 8, 9, 10]\n",
      "[0, 5, 10, 15, 20, 25, 30]\n"
     ]
    }
   ],
   "source": [
    "# notice that we convert to lists below to see elements in the range\n",
    "print(list(range(10)))\n",
    "print(list(range(1, 11)))\n",
    "print(list(range(0, 31, 5)))"
   ]
  },
  {
   "cell_type": "markdown",
   "metadata": {
    "slideshow": {
     "slide_type": "subslide"
    }
   },
   "source": [
    "### using `range()`in _for_ loops\n",
    "Now that we have a sequence of numbers, we can use `for`to iterate through each number in that sequence. This is similar to for-loops in Java."
   ]
  },
  {
   "cell_type": "code",
   "execution_count": 55,
   "metadata": {},
   "outputs": [
    {
     "name": "stdout",
     "output_type": "stream",
     "text": [
      "0\n",
      "1\n",
      "2\n",
      "3\n",
      "4\n"
     ]
    }
   ],
   "source": [
    "for i in range(5):\n",
    "    print(i)"
   ]
  },
  {
   "cell_type": "markdown",
   "metadata": {
    "slideshow": {
     "slide_type": "fragment"
    }
   },
   "source": [
    "Using Java:\n",
    "```java\n",
    "for(int i = 0; i < 5; i++){\n",
    "    System.out.print(i);\n",
    "}\n",
    "```"
   ]
  },
  {
   "cell_type": "markdown",
   "metadata": {
    "slideshow": {
     "slide_type": "slide"
    }
   },
   "source": [
    "### Functions\n",
    "* Defining functions\n",
    "* input parameters\n",
    "* return values"
   ]
  },
  {
   "cell_type": "markdown",
   "metadata": {
    "slideshow": {
     "slide_type": "subslide"
    }
   },
   "source": [
    "#### What are functions\n",
    "Function is a code block that make it easier to organise and reuse code. In Python a function is defined and called in the following manner:"
   ]
  },
  {
   "cell_type": "code",
   "execution_count": 58,
   "metadata": {
    "slideshow": {
     "slide_type": "fragment"
    }
   },
   "outputs": [
    {
     "name": "stdout",
     "output_type": "stream",
     "text": [
      "Executing code block!\n"
     ]
    }
   ],
   "source": [
    "def print_something():\n",
    "    print('Executing code block!')\n",
    "    \n",
    "print_something()"
   ]
  },
  {
   "cell_type": "markdown",
   "metadata": {
    "slideshow": {
     "slide_type": "notes"
    }
   },
   "source": [
    "We're already familiar with print() and input(). We never want to see duplicates in code, so using functions allows us to reuse and make more understandable and more efficient software"
   ]
  },
  {
   "cell_type": "markdown",
   "metadata": {
    "slideshow": {
     "slide_type": "subslide"
    }
   },
   "source": [
    "#### input parameters\n",
    "We can pass values or _arguments_ to the functions by setting it as input arguments within the parantheses."
   ]
  },
  {
   "cell_type": "code",
   "execution_count": 62,
   "metadata": {
    "slideshow": {
     "slide_type": "fragment"
    }
   },
   "outputs": [
    {
     "name": "stdout",
     "output_type": "stream",
     "text": [
      "Hello Clara and Frederik\n"
     ]
    }
   ],
   "source": [
    "def print_names(name_1, name_2):\n",
    "    print(f'Hello {name_1} and {name_2}')\n",
    "    \n",
    "print_names('Clara','Frederik')"
   ]
  },
  {
   "cell_type": "code",
   "execution_count": 63,
   "metadata": {
    "slideshow": {
     "slide_type": "fragment"
    }
   },
   "outputs": [
    {
     "name": "stdout",
     "output_type": "stream",
     "text": [
      "Product is: 6\n"
     ]
    }
   ],
   "source": [
    "def print_product(a, b):\n",
    "    product = a * b\n",
    "    print('Product is: ' + str(product))\n",
    "\n",
    "print_product(2,3)"
   ]
  },
  {
   "cell_type": "markdown",
   "metadata": {
    "slideshow": {
     "slide_type": "notes"
    }
   },
   "source": [
    "Fix error in code above"
   ]
  },
  {
   "cell_type": "markdown",
   "metadata": {
    "slideshow": {
     "slide_type": "subslide"
    }
   },
   "source": [
    "#### _return_ values\n",
    "The keyword `return` allows us to get or _return_ the output of a function."
   ]
  },
  {
   "cell_type": "code",
   "execution_count": 65,
   "metadata": {
    "slideshow": {
     "slide_type": "fragment"
    }
   },
   "outputs": [
    {
     "name": "stdout",
     "output_type": "stream",
     "text": [
      "6\n"
     ]
    }
   ],
   "source": [
    "def get_product(a, b):\n",
    "    return a * b\n",
    "  \n",
    "product = get_product(2,3)\n",
    "print(product)"
   ]
  },
  {
   "cell_type": "markdown",
   "metadata": {
    "slideshow": {
     "slide_type": "subslide"
    }
   },
   "source": [
    "This can be useful to hide complexity within functions:"
   ]
  },
  {
   "cell_type": "code",
   "execution_count": 85,
   "metadata": {
    "slideshow": {
     "slide_type": "fragment"
    }
   },
   "outputs": [
    {
     "name": "stdout",
     "output_type": "stream",
     "text": [
      "tails\n"
     ]
    }
   ],
   "source": [
    "import random\n",
    "\n",
    "def flip_coin():\n",
    "    r = random.randint(0,1)\n",
    "    if r == 0:\n",
    "        return 'heads'\n",
    "    elif r == 1:\n",
    "        return 'tails'\n",
    "    \n",
    "print(flip_coin())"
   ]
  },
  {
   "cell_type": "markdown",
   "metadata": {
    "slideshow": {
     "slide_type": "subslide"
    }
   },
   "source": [
    "# Exercises 2\n",
    "* Iterate using a `for`-loop through all odd numbers between 5 and 27 using `range()`\n",
    "* Count from 1 to 10 using a `while`-loop and break out afterwards\n",
    "* Create a program that prints the letters of a word one-by-one\n",
    "\n",
    "* Create a function with two input arguments that returns the sum of these two numbers\n",
    "* Create a function that returns True if input is string `\"test word\"`\n",
    "* Create a function `string_length(a)` that returns the length of a string by using the `len()` function\n",
    "    * Now do it without `len()` (__hint:__ iterate and count!)"
   ]
  },
  {
   "cell_type": "markdown",
   "metadata": {},
   "source": [
    "30 minutes"
   ]
  },
  {
   "cell_type": "markdown",
   "metadata": {
    "slideshow": {
     "slide_type": "slide"
    }
   },
   "source": [
    "### Lists\n",
    "* Creating lists\n",
    "* Inserting, removing and changing elements\n",
    "* iterating through lists\n",
    "* `len()` function\n",
    "* Sorting"
   ]
  },
  {
   "cell_type": "markdown",
   "metadata": {
    "slideshow": {
     "slide_type": "fragment"
    }
   },
   "source": [
    "A _list_ is a datatype that can contain multiple values in an ordered sequence. They are similar to ArrayLists in Java and contain both basic and complex data types:"
   ]
  },
  {
   "cell_type": "code",
   "execution_count": 86,
   "metadata": {
    "slideshow": {
     "slide_type": "fragment"
    }
   },
   "outputs": [],
   "source": [
    "a = [1, 0, 4, 6]\n",
    "b = ['cat', 'house', 'ideology', 'joystick']\n",
    "c = [[1,2],[3,4]] # a list of lists (2d array)"
   ]
  },
  {
   "cell_type": "markdown",
   "metadata": {
    "slideshow": {
     "slide_type": "fragment"
    }
   },
   "source": [
    "Python even allows for mixing data types in a list! "
   ]
  },
  {
   "cell_type": "code",
   "execution_count": 89,
   "metadata": {
    "slideshow": {
     "slide_type": "-"
    }
   },
   "outputs": [
    {
     "name": "stdout",
     "output_type": "stream",
     "text": [
      "[1, 'Python', 2.5, [1, 2], <built-in function print>]\n"
     ]
    }
   ],
   "source": [
    "d = [1, 'Python', 2.5, [1,2], print]\n",
    "print(d)"
   ]
  },
  {
   "cell_type": "markdown",
   "metadata": {
    "slideshow": {
     "slide_type": "notes"
    }
   },
   "source": [
    "Use at own risk! Things can get compliated"
   ]
  },
  {
   "cell_type": "markdown",
   "metadata": {
    "slideshow": {
     "slide_type": "subslide"
    }
   },
   "source": [
    "#### Accessing, adding, inserting and removing"
   ]
  },
  {
   "cell_type": "code",
   "execution_count": 91,
   "metadata": {
    "slideshow": {
     "slide_type": "fragment"
    }
   },
   "outputs": [
    {
     "name": "stdout",
     "output_type": "stream",
     "text": [
      "cat\n",
      "house\n",
      "school\n",
      "['house', 'structure']\n"
     ]
    }
   ],
   "source": [
    "a = ['cat', 'house', 'structure', 'school']\n",
    "print(a[0]) # first element\n",
    "print(a[1]) # second element\n",
    "print(a[-1]) # last element\n",
    "print(a[1:3]) # slicing"
   ]
  },
  {
   "cell_type": "markdown",
   "metadata": {
    "slideshow": {
     "slide_type": "subslide"
    }
   },
   "source": [
    "#### Adding to lists"
   ]
  },
  {
   "cell_type": "code",
   "execution_count": 94,
   "metadata": {
    "slideshow": {
     "slide_type": "fragment"
    }
   },
   "outputs": [
    {
     "name": "stdout",
     "output_type": "stream",
     "text": [
      "['cat', 'house', 'structure', 'rabbit']\n",
      "['concrete', 'cat', 'house', 'structure', 'rabbit']\n",
      "['concrete', 'cat', 'house', 'structure', 'rabbit', 'horse']\n"
     ]
    }
   ],
   "source": [
    "a = ['cat', 'house', 'structure']\n",
    "a.append('rabbit') # insert last\n",
    "print(a)\n",
    "a.insert(0, 'concrete') # insert at index\n",
    "print(a)\n",
    "a.insert(15, 'horse')\n",
    "print(a)"
   ]
  },
  {
   "cell_type": "markdown",
   "metadata": {
    "slideshow": {
     "slide_type": "subslide"
    }
   },
   "source": [
    "#### Removing"
   ]
  },
  {
   "cell_type": "code",
   "execution_count": 96,
   "metadata": {
    "slideshow": {
     "slide_type": "fragment"
    }
   },
   "outputs": [
    {
     "name": "stdout",
     "output_type": "stream",
     "text": [
      "Updated animals list:  ['cat', 'dog', 'guinea pig']\n"
     ]
    }
   ],
   "source": [
    "# animals list\n",
    "animals = ['cat', 'dog', 'rabbit', 'guinea pig']\n",
    "\n",
    "# 'rabbit' is removed\n",
    "animals.remove('rabbit') # removing first match\n",
    "\n",
    "# Updated animals List\n",
    "print('Updated animals list: ', animals)"
   ]
  },
  {
   "cell_type": "markdown",
   "metadata": {
    "slideshow": {
     "slide_type": "subslide"
    }
   },
   "source": [
    "We can also remove based on index using `pop()` _[Example](https://www.programiz.com/python-programming/methods/list/pop)_"
   ]
  },
  {
   "cell_type": "code",
   "execution_count": 97,
   "metadata": {},
   "outputs": [
    {
     "name": "stdout",
     "output_type": "stream",
     "text": [
      "Return Value: French\n",
      "Updated List: ['Python', 'Java', 'C++', 'C']\n"
     ]
    }
   ],
   "source": [
    "# programming languages list\n",
    "languages = ['Python', 'Java', 'C++', 'French', 'C']\n",
    "\n",
    "# remove and return the 4th item\n",
    "return_value = languages.pop(3)\n",
    "print('Return Value:', return_value)\n",
    "\n",
    "# Updated List\n",
    "print('Updated List:', languages)"
   ]
  },
  {
   "cell_type": "markdown",
   "metadata": {
    "slideshow": {
     "slide_type": "subslide"
    }
   },
   "source": [
    "#### Iterating\n",
    "We can iterate through lists using _for_ loops:"
   ]
  },
  {
   "cell_type": "code",
   "execution_count": 100,
   "metadata": {},
   "outputs": [
    {
     "name": "stdout",
     "output_type": "stream",
     "text": [
      "rabbit\n",
      "dog\n",
      "horse\n",
      "dolphin\n"
     ]
    }
   ],
   "source": [
    "for animal in ['rabbit', 'dog','horse','dolphin']:\n",
    "    print(animal)"
   ]
  },
  {
   "cell_type": "markdown",
   "metadata": {
    "slideshow": {
     "slide_type": "subslide"
    }
   },
   "source": [
    "#### Shuffle, sort and `len()`\n",
    "We can use `len()`to get the number of elements in a list. We can also use Python's built-in shuffling and sorting:"
   ]
  },
  {
   "cell_type": "code",
   "execution_count": 114,
   "metadata": {
    "slideshow": {
     "slide_type": "fragment"
    }
   },
   "outputs": [
    {
     "name": "stdout",
     "output_type": "stream",
     "text": [
      "Shuffled: [2, 3, 7, 1, 9, 5, 10, 0, 6, 8, 4]\n",
      "Sorted: [0, 1, 2, 3, 4, 5, 6, 7, 8, 9, 10]\n"
     ]
    }
   ],
   "source": [
    "import random\n",
    "a = [0,1,2,3,4,5,6,7,8,9,10]\n",
    "random.shuffle(a)\n",
    "print('Shuffled:',a)\n",
    "a.sort()\n",
    "print('Sorted:',a)"
   ]
  },
  {
   "cell_type": "markdown",
   "metadata": {
    "slideshow": {
     "slide_type": "subslide"
    }
   },
   "source": [
    "# Exercises 3\n",
    "* Create a list that contains all odd integers between 5 and 27\n",
    "* Create a function that returns a random entry from a list of countries\n",
    "* Create a function that accepts a list of integers and returns the largest number\n",
    "* Create a function that accepts a list of floats and returns the average\n",
    "* Create a 2D list of lists of random size and create a function that counts the total number of entries in the lists\n",
    "* Create a 2D list of lists with random numbers between 1 and 9.\n",
    "    * Print list in grid\n",
    "    * Change element in list to `'x'` if entry summed with all neighbours tiles `> 8`"
   ]
  },
  {
   "cell_type": "markdown",
   "metadata": {
    "slideshow": {
     "slide_type": "slide"
    }
   },
   "source": [
    "### Dictionaries\n",
    "* Dictionaries vs. lists\n",
    "* Creating dictionaries\n",
    "* Inserting, removing and changing elements"
   ]
  },
  {
   "cell_type": "markdown",
   "metadata": {
    "slideshow": {
     "slide_type": "subslide"
    }
   },
   "source": [
    "Dictionaries are unordered and are not accessed by the index but by their key. (like a dictionary!)"
   ]
  },
  {
   "cell_type": "code",
   "execution_count": null,
   "metadata": {
    "slideshow": {
     "slide_type": "fragment"
    }
   },
   "outputs": [],
   "source": [
    "a_dict = {\"a\": 2, \"b\": 2, \"c\": 3} # a dictionary is created\n",
    "print(a_dict[\"b\"]) # accessing value at key \"b\""
   ]
  },
  {
   "cell_type": "code",
   "execution_count": null,
   "metadata": {
    "slideshow": {
     "slide_type": "fragment"
    }
   },
   "outputs": [],
   "source": [
    "a_dict[\"d\"] = 0 # inserting new element in dict\n",
    "print(a_dict)\n",
    "del a_dict[\"b\"] # delete\n",
    "print(a_dict)"
   ]
  },
  {
   "cell_type": "markdown",
   "metadata": {
    "slideshow": {
     "slide_type": "subslide"
    }
   },
   "source": [
    "In dictionaries keys can only consist of immutable data types such as strings and integers, while the values can be lists, objects or dictionaries as seen in example below from [python-course.eu](https://www.python-course.eu/python3_dictionaries.php)."
   ]
  },
  {
   "cell_type": "code",
   "execution_count": null,
   "metadata": {
    "slideshow": {
     "slide_type": "fragment"
    }
   },
   "outputs": [],
   "source": [
    "en_de = {\"red\" : \"rot\", \"green\" : \"grün\", \"blue\" : \"blau\", \"yellow\":\"gelb\"}\n",
    "de_fr = {\"rot\" : \"rouge\", \"grün\" : \"vert\", \"blau\" : \"bleu\", \"gelb\":\"jaune\"}\n",
    "de_tr = {\"rot\": \"kırmızı\", \"grün\": \"yeşil\", \"blau\": \"mavi\", \"gelb\": \"jel\"}\n",
    "en_es = {\"red\" : \"rojo\", \"green\" : \"verde\", \"blue\" : \"azul\", \"yellow\":\"amarillo\"}\n",
    "\n",
    "dictionaries = {\"en_de\" : en_de, \"de_fr\" : de_fr, \"de_tr\": de_tr, \"en_es\": en_es}"
   ]
  },
  {
   "cell_type": "markdown",
   "metadata": {
    "slideshow": {
     "slide_type": "slide"
    }
   },
   "source": [
    "# Exercises\n",
    "_Basic Google exercises for Python. See the [github repository](https://github.com/InteractiveDigitalSystems/F2022/)_\n",
    "\n",
    "Start with `string1.py` and later move to `list1.py`.\n",
    "\n",
    "If you're done with these exercises or find them too easy. I'd suggest creating a user on [Hackerrank](hackerrank.com) and trying their [Python exercises](https://www.hackerrank.com/domains/python?filters%5Bskills%5D%5B%5D=Python%20%28Basic%29&filters%5Bskills%5D%5B%5D=Problem%20Solving%20%28Basic%29)."
   ]
  },
  {
   "cell_type": "code",
   "execution_count": null,
   "metadata": {},
   "outputs": [],
   "source": []
  }
 ],
 "metadata": {
  "celltoolbar": "Slideshow",
  "kernelspec": {
   "display_name": "Python 3 (ipykernel)",
   "language": "python",
   "name": "python3"
  },
  "language_info": {
   "codemirror_mode": {
    "name": "ipython",
    "version": 3
   },
   "file_extension": ".py",
   "mimetype": "text/x-python",
   "name": "python",
   "nbconvert_exporter": "python",
   "pygments_lexer": "ipython3",
   "version": "3.9.7"
  }
 },
 "nbformat": 4,
 "nbformat_minor": 4
}
