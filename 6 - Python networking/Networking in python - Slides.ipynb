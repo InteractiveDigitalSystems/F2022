{
 "cells": [
  {
   "cell_type": "markdown",
   "id": "special-macedonia",
   "metadata": {
    "slideshow": {
     "slide_type": "slide"
    }
   },
   "source": [
    "# IDS 6 - Networking In Python\n"
   ]
  },
  {
   "cell_type": "markdown",
   "id": "5bb3779e",
   "metadata": {
    "slideshow": {
     "slide_type": "subslide"
    }
   },
   "source": [
    "## Today's agenda\n",
    "* **Python**: Tuples, dictionaries and optional input arguments for functions\n",
    "* Networking\n",
    "* UDP and TCP in Python\n",
    "* JSON (JavaScript Object Notation)\n",
    "* Web APIs (HTTP GET)"
   ]
  },
  {
   "cell_type": "markdown",
   "id": "a621bb53",
   "metadata": {
    "slideshow": {
     "slide_type": "subslide"
    }
   },
   "source": [
    "### Learning goals today\n",
    "* Stronger Python skills\n",
    "    * Especially dictionaries will become important!\n",
    "* An understanding of how to get data from HTTP connection using requests.\n",
    "* Storing and handling JSON in files!\n",
    "* Interaction with web APIs\n"
   ]
  },
  {
   "cell_type": "markdown",
   "id": "579b1fd1",
   "metadata": {
    "slideshow": {
     "slide_type": "notes"
    }
   },
   "source": [
    "* Dip your feet in HTTP get requests\n",
    "* handling JSON files (local and through end-point)\n",
    "* Plenty of exercises!"
   ]
  },
  {
   "cell_type": "markdown",
   "id": "6df4fc0e",
   "metadata": {
    "slideshow": {
     "slide_type": "slide"
    }
   },
   "source": [
    "## More Python knowledge!\n",
    "Tuples and optional input arguments to functions!\n",
    "\n",
    "_Alot of the concepts presented here can also be found in [Automate The Boring Stuff](https://automatetheboringstuff.com/chapter4/)_"
   ]
  },
  {
   "cell_type": "markdown",
   "id": "960cb844",
   "metadata": {
    "slideshow": {
     "slide_type": "subslide"
    }
   },
   "source": [
    "### Tuples!\n",
    "A _tuple_ is a type of data in Python, which is very similar to lists. Instead of using square brackets ```[]```, we used parentheses ```()``` when creating a tuple.\n",
    "```python\n",
    "test = (5, 0, 2)\n",
    "hello = ('Cool String', 0.01, 25, [2,2]) # can hold different kinds of data types\n",
    "```"
   ]
  },
  {
   "cell_type": "markdown",
   "id": "b7624784",
   "metadata": {
    "slideshow": {
     "slide_type": "subslide"
    }
   },
   "source": [
    "Unlike lists, tuples are **immutable**. This means that their values cannot be modified, appended or removed."
   ]
  },
  {
   "cell_type": "code",
   "execution_count": null,
   "id": "0988ddc7",
   "metadata": {
    "slideshow": {
     "slide_type": "fragment"
    }
   },
   "outputs": [],
   "source": [
    "test = (5, 0, 2)\n",
    "test[0] = 1 # will throw a TypeError"
   ]
  },
  {
   "cell_type": "markdown",
   "id": "5648393c",
   "metadata": {
    "slideshow": {
     "slide_type": "subslide"
    }
   },
   "source": [
    "If we wish to do so, we can convert tuples to lists and vice versa.\n",
    "```python\n",
    "tuple([2,5,2]) # convert list to tuple\n",
    "list(('one string', 'two string')) # convert tuple to list\n",
    "```"
   ]
  },
  {
   "cell_type": "markdown",
   "id": "c961924d",
   "metadata": {
    "slideshow": {
     "slide_type": "subslide"
    }
   },
   "source": [
    "#### When to use tuples?\n",
    "When we want data to not be mutable and when it makes sense to structure data this way. An example could be first and last name:\n",
    "```python\n",
    "full_name = ('Frederik', 'Juutilainen')\n",
    "print(f'My last name is {full_name[1]}')\n",
    "```\n",
    "or coordinates:"
   ]
  },
  {
   "cell_type": "code",
   "execution_count": null,
   "id": "f65e8bd7",
   "metadata": {
    "slideshow": {
     "slide_type": "fragment"
    }
   },
   "outputs": [],
   "source": [
    "ruc_coordinates = (55.65315552816671, 12.14078009885621) # lat, lon\n",
    "norrebro_coordinates = (55.69442365844815, 12.548895741456962) # lat, lon"
   ]
  },
  {
   "cell_type": "markdown",
   "id": "patient-produce",
   "metadata": {
    "slideshow": {
     "slide_type": "subslide"
    }
   },
   "source": [
    "# PIP\n",
    "**P**acket **I**nstaller for **P**ython\n",
    "```\n",
    "pip3 install requests\n",
    "```"
   ]
  },
  {
   "cell_type": "code",
   "execution_count": null,
   "id": "4f65b0e9",
   "metadata": {
    "slideshow": {
     "slide_type": "fragment"
    }
   },
   "outputs": [],
   "source": [
    "import geopy.distance # pip3 install geopy\n",
    "ruc_coordinates = (55.65315552816671, 12.14078009885621) # lat, lon\n",
    "norrebro_coordinates = (55.69442365844815, 12.548895741456962) # lat, lon\n",
    "dist = geopy.distance.distance(ruc_coordinates, norrebro_coordinates).km\n",
    "print(f'Distance from RUC to Nørrebro is {dist:.1f} km')"
   ]
  },
  {
   "cell_type": "markdown",
   "id": "5c5aade6",
   "metadata": {
    "slideshow": {
     "slide_type": "notes"
    }
   },
   "source": [
    "Mental exercises! Can you think of other forms of data or information that would represented well with a tuple?"
   ]
  },
  {
   "cell_type": "markdown",
   "id": "e2ba483f",
   "metadata": {
    "slideshow": {
     "slide_type": "slide"
    }
   },
   "source": [
    "### Optional input parameters and method overloading\n",
    "_Tons of good points and examples to be found in [Automate the Boring stuff](https://automatetheboringstuff.com/2e/chapter3/)_\n",
    "\n",
    "In Java, arguments to functions are defined by their position in the function call."
   ]
  },
  {
   "cell_type": "markdown",
   "id": "a70ee8ba",
   "metadata": {
    "slideshow": {
     "slide_type": "fragment"
    }
   },
   "source": [
    "```java\n",
    "public static void printGreeting(String firstName, String lastName){\n",
    "    System.out.print(\"Hello \" + firstName + \" \" + lastName);\n",
    "}\n",
    "```"
   ]
  },
  {
   "cell_type": "markdown",
   "id": "2e7727f4",
   "metadata": {
    "slideshow": {
     "slide_type": "subslide"
    }
   },
   "source": [
    "This is often also the case in Python, as we can remember with e.g. the ```random.randint(1,5)```-function. Here the first argument $1$ is the lower end of the range while $5$ is the upper end. We can however also use _keyword arguments_ and these are typically used when working with optional parameters."
   ]
  },
  {
   "cell_type": "markdown",
   "id": "98a55f8d",
   "metadata": {
    "slideshow": {
     "slide_type": "subslide"
    }
   },
   "source": [
    "If we wanted the previous JAVA example to work with either only firstName or first and last name, we would have to overload the function.\n",
    "\n",
    "```java\n",
    "public static void printGreeting(String firstName){\n",
    "    System.out.print(\"Hello \" + firstName);\n",
    "}\n",
    "\n",
    "public static void printGreeting(String firstName, String lastName){\n",
    "    System.out.print(\"Hello \" + firstName + \" \" + lastName);\n",
    "}\n",
    "```"
   ]
  },
  {
   "cell_type": "markdown",
   "id": "0449c276",
   "metadata": {
    "slideshow": {
     "slide_type": "subslide"
    }
   },
   "source": [
    "#### Using optional input parameters in Python\n",
    "An example of using an optional input parameter can be found in the ```print()```-function, were we can use the ```end```-keyword argument to decide what follows a string.\n",
    "\n",
    "```\n",
    "Print objects to the text stream file, separated by sep and followed by end. sep, end, file and flush, if present, must be given as keyword arguments.\n",
    "```\n",
    "_[Python3 \"print()\"-documentation](https://docs.python.org/3/library/functions.html#print)_"
   ]
  },
  {
   "cell_type": "code",
   "execution_count": null,
   "id": "29e29480",
   "metadata": {},
   "outputs": [],
   "source": [
    "print('Hello', end='')\n",
    "print('World')"
   ]
  },
  {
   "cell_type": "markdown",
   "id": "54682618",
   "metadata": {
    "slideshow": {
     "slide_type": "subslide"
    }
   },
   "source": [
    "##### Creating a function with an optional input parameter"
   ]
  },
  {
   "cell_type": "code",
   "execution_count": null,
   "id": "7662f4cc",
   "metadata": {
    "slideshow": {
     "slide_type": "fragment"
    }
   },
   "outputs": [],
   "source": [
    "def printGreeting(name, professor=False):\n",
    "    if professor:\n",
    "        name = 'Dr. ' + name\n",
    "    print(f'Hello {name}!')\n",
    "printGreeting('Frederik')\n",
    "printGreeting('Henning', professor=True) "
   ]
  },
  {
   "cell_type": "markdown",
   "id": "0227fe95",
   "metadata": {
    "slideshow": {
     "slide_type": "notes"
    }
   },
   "source": [
    "This allows us to avoid writing many versions of the \"same\" function, but handle the logic internally within a function."
   ]
  },
  {
   "cell_type": "markdown",
   "id": "c04c9dd6",
   "metadata": {
    "slideshow": {
     "slide_type": "subslide"
    }
   },
   "source": [
    "#### Exercise!\n",
    "* Write a function `get_numbers` which returns a list of all numbers from 1 to 25. The function should have the optional input argument ```omit```, which is a tuple of numbers that should be removed from the returned list. Tip: iterate through the tuple and use `remove`.\n",
    "* Bonus: make sure the function does not crash if the ```omit```-parameter is not a tuple.\n",
    "```python\n",
    "if type(omit) is not tuple\n",
    "```"
   ]
  },
  {
   "cell_type": "markdown",
   "id": "71326cc0",
   "metadata": {
    "slideshow": {
     "slide_type": "slide"
    }
   },
   "source": [
    "### [Dictionaries](https://docs.python.org/3/tutorial/datastructures.html#dictionaries)\n",
    "* Dictionaries are collections that are sets of _key_ / _value_ pairs.\n",
    "* Keys can be any immutable type; strings and numbers can always be keys.\n",
    "* Values can be simple or complex data types or containers.\n",
    "* We use curly brackets `{ }` to create a list.\n",
    "<br>\n",
    "- More info on [automate the boring stuff](https://automatetheboringstuff.com/2e/chapter5/)"
   ]
  },
  {
   "cell_type": "code",
   "execution_count": null,
   "id": "0528e8cc",
   "metadata": {
    "slideshow": {
     "slide_type": "fragment"
    }
   },
   "outputs": [],
   "source": [
    "a_dict = {\"a\": 2, \"b\": 2, \"c\": 3} # a dictionary is created\n",
    "print(a_dict[\"b\"]) # accessing value at key \"b\""
   ]
  },
  {
   "cell_type": "code",
   "execution_count": null,
   "id": "bb26c75c",
   "metadata": {
    "slideshow": {
     "slide_type": "fragment"
    }
   },
   "outputs": [],
   "source": [
    "a_dict[\"d\"] = 0 # inserting new element in dict\n",
    "print(a_dict)\n",
    "del a_dict[\"b\"] # delete\n",
    "print(a_dict)"
   ]
  },
  {
   "cell_type": "markdown",
   "id": "ec215f95",
   "metadata": {
    "slideshow": {
     "slide_type": "subslide"
    }
   },
   "source": [
    "We can also nest dictionaries for even more complex operations."
   ]
  },
  {
   "cell_type": "code",
   "execution_count": null,
   "id": "95d4e11c",
   "metadata": {
    "slideshow": {
     "slide_type": "fragment"
    }
   },
   "outputs": [],
   "source": [
    "en_de = {\"red\" : \"rot\", \"green\" : \"grün\", \"blue\" : \"blau\", \"yellow\":\"gelb\"}\n",
    "de_fr = {\"rot\" : \"rouge\", \"grün\" : \"vert\", \"blau\" : \"bleu\", \"gelb\":\"jaune\"}\n",
    "de_tr = {\"rot\": \"kırmızı\", \"grün\": \"yeşil\", \"blau\": \"mavi\", \"gelb\": \"jel\"}\n",
    "en_es = {\"red\" : \"rojo\", \"green\" : \"verde\", \"blue\" : \"azul\", \"yellow\":\"amarillo\"}\n",
    "\n",
    "dictionaries = {\"en_de\" : en_de, \"de_fr\" : de_fr, \"de_tr\": de_tr, \"en_es\": en_es}"
   ]
  },
  {
   "cell_type": "code",
   "execution_count": null,
   "id": "fa23dc8c",
   "metadata": {
    "slideshow": {
     "slide_type": "fragment"
    }
   },
   "outputs": [],
   "source": [
    "# how do I find translate rot from German to Turkish?"
   ]
  },
  {
   "cell_type": "markdown",
   "id": "8674d096",
   "metadata": {
    "slideshow": {
     "slide_type": "slide"
    }
   },
   "source": [
    "# Sending and receiving UDP and TCP in Python"
   ]
  },
  {
   "cell_type": "markdown",
   "id": "529d0709",
   "metadata": {
    "slideshow": {
     "slide_type": "fragment"
    }
   },
   "source": [
    "**Recap:**\n",
    "* In networking we're breaking down file transfers in smaller packets.\n",
    "    * In theory we could stream entire files, but that would clog the network. Instead we break it up and _packet switching_ ensures that multiple computers can communicate simultaneously.\n",
    "* In networking we often decide between using **TCP** and **UDP**:\n",
    "    * _TCP_ is **reliable** (ensures that packets arrive), **ordered** (packets are sent in sequence) and **\"heavyweight\"** (multiple packets sent before any user data is sent)\n",
    "    * _UDP_ is **unreliable** (we don't know if packets arrive), **unordered** (order of receival cannot be ensured) and **lightweight** (Very simple transport protocol).\n",
    "* UDP is good for time sensitive uses, where waiting for packages is not an option.\n",
    "    \n",
    "-- [wiki (TCP & UDP comparison](https://en.wikipedia.org/wiki/User_Datagram_Protocol#Comparison_of_UDP_and_TCP)"
   ]
  },
  {
   "cell_type": "code",
   "execution_count": null,
   "id": "5b9f641e",
   "metadata": {
    "slideshow": {
     "slide_type": "subslide"
    }
   },
   "outputs": [],
   "source": [
    "# udp_sender.py\n",
    "import socket \n",
    "UDP_IP = \"127.0.0.1\"\n",
    "UDP_PORT = 7007\n",
    "MESSAGE = b\"Isn't this exiting\" # notice that 'b' converts it from str to bytes\n",
    " \n",
    "sock = socket.socket(socket.AF_INET, # Internet\n",
    "socket.SOCK_DGRAM) # UDP\n",
    "sock.sendto(MESSAGE, (UDP_IP, UDP_PORT));"
   ]
  },
  {
   "cell_type": "markdown",
   "id": "70745b99",
   "metadata": {
    "slideshow": {
     "slide_type": "subslide"
    }
   },
   "source": [
    "```python\n",
    "# udp_receiver.py\n",
    "import socket\n",
    "\n",
    "UDP_IP = \"127.0.0.1\"\n",
    "UDP_PORT = 5005\n",
    "\n",
    "sock = socket.socket(socket.AF_INET, socket.SOCK_DGRAM) # UDP\n",
    "sock.bind((UDP_IP, UDP_PORT))\n",
    "\n",
    "while True:\n",
    "    data, addr = sock.recvfrom(1024) # buffer size is 1024 bytes\n",
    "    print(\"received message: %s\" % data)\n",
    "\n",
    "```"
   ]
  },
  {
   "cell_type": "markdown",
   "id": "1be10aa1",
   "metadata": {
    "slideshow": {
     "slide_type": "subslide"
    }
   },
   "source": [
    "### TCP example"
   ]
  },
  {
   "cell_type": "markdown",
   "id": "3a0b9295",
   "metadata": {
    "slideshow": {
     "slide_type": "subslide"
    }
   },
   "source": [
    "```python\n",
    "# tcp_client.py\n",
    "import socket\n",
    "\n",
    "HOST = '127.0.0.1'  # The server's hostname or IP address\n",
    "PORT = 9009        # The port used by the server\n",
    "\n",
    "with socket.socket(socket.AF_INET, socket.SOCK_STREAM) as s:\n",
    "    s.connect((HOST, PORT))\n",
    "    while True:\n",
    "        data = s.recv(1024)\n",
    "        s.sendall(b'Hello, world')\n",
    "        print('Received', repr(data)) # repr returns a str-representation of the data object\n",
    "```"
   ]
  },
  {
   "cell_type": "markdown",
   "id": "20d6de36",
   "metadata": {
    "slideshow": {
     "slide_type": "subslide"
    }
   },
   "source": [
    "```python\n",
    "# tcp_server.py\n",
    "import socket\n",
    "\n",
    "HOST = '127.0.0.1'  # Standard loopback interface address (localhost)\n",
    "PORT = 9009        # Port to listen on (non-privileged ports are > 1023)\n",
    "\n",
    "with socket.socket(socket.AF_INET, socket.SOCK_STREAM) as s:\n",
    "    s.bind((HOST, PORT))\n",
    "    s.listen()\n",
    "    conn, addr = s.accept()\n",
    "    with conn:\n",
    "        print('Connected by', addr)\n",
    "        while True:\n",
    "            data = conn.recv(1204)\n",
    "            conn.sendall(b'ECHO ' + data)\n",
    "```"
   ]
  },
  {
   "cell_type": "markdown",
   "id": "ba8e71c6",
   "metadata": {
    "slideshow": {
     "slide_type": "subslide"
    }
   },
   "source": [
    "### Common issues with clients!\n",
    "1. When listening in a `while`-loop we block other elements of the program. We therefore need to use multi-treaded programming, which we will cover later!\n",
    "2. If you do not close a server correctly, it might block the port for use. With a few terminal commands we can find and stop these processes."
   ]
  },
  {
   "cell_type": "markdown",
   "id": "b703cae8",
   "metadata": {
    "slideshow": {
     "slide_type": "subslide"
    }
   },
   "source": [
    "### Fast hack for killing processes locking up a specific port\n",
    "On macOS we can open the terminal and input the following command. Replace _PORT_NUMBER_ with the port number.\n",
    "```\n",
    "sudo lsof -i :PORT_NUMBER\n",
    "```\n",
    "If a process is found, we can use the the process identifier (pid).\n",
    "```\n",
    "COMMAND     PID                USER   FD   TYPE             DEVICE SIZE/OFF NODE NAME\n",
    "python3.8 65683 frederikjuutilainen    3u  IPv4 0x27c268ecd189636d      0t0  UDP localhost:6565\n",
    "```\n",
    "\n",
    "Note the PID and input it in the following command:\n",
    "```\n",
    "kill -9 <PID>\n",
    "```"
   ]
  },
  {
   "cell_type": "markdown",
   "id": "29f68404",
   "metadata": {
    "slideshow": {
     "slide_type": "subslide"
    }
   },
   "source": [
    "### Same process on Windows\n",
    "Found on [stackoverflow](https://stackoverflow.com/a/39633428).\n",
    "\n",
    "1. Open cmd.exe\n",
    "2. Insert ```netstat -ano | findstr :<PORT>```\n",
    "3. Locate the PID and insert in ```taskkill /PID <PID> /F```"
   ]
  },
  {
   "cell_type": "markdown",
   "id": "b221e69e",
   "metadata": {
    "slideshow": {
     "slide_type": "subslide"
    }
   },
   "source": [
    "##### Recap!\n",
    "* UDP and TCP communication is luckily possible in Python!\n",
    "* They send packets, which are breaking up files in smaller chunks.\n",
    "* Deciding between TCP / UDP often comes down to seeing if the application is time-sensitive in which case UDP is better but less reliable!"
   ]
  },
  {
   "cell_type": "markdown",
   "id": "177bed3d",
   "metadata": {
    "slideshow": {
     "slide_type": "slide"
    }
   },
   "source": [
    "## JSON\n",
    "\n",
    "https://raw.githubusercontent.com/lutangar/cities.json/master/cities.json\n",
    "\n",
    "* JSON (\"Jay-Son\") is __J__ava __S__cript __O__bject __N__otation.\n",
    "* Standard file format used to store and trasmit data.\n",
    "* Human-readable\n",
    "* Derived from JavaScript but now language independent.\n",
    "* Encoded in [UTF-8](https://en.wikipedia.org/wiki/UTF-8#Examples)"
   ]
  },
  {
   "cell_type": "markdown",
   "id": "bbc0f3a8",
   "metadata": {
    "slideshow": {
     "slide_type": "subslide"
    }
   },
   "source": [
    "```javascript\n",
    "{\n",
    "  \"data\": [{\n",
    "    \"type\": \"articles\",\n",
    "    \"working\": false,\n",
    "    \"attributes\": {\n",
    "      \"title\": \"JSON:API paints my bikeshed!\",\n",
    "      \"body\": \"The shortest article. Ever.\"\n",
    "    }\n",
    "  }],\n",
    "  \"included\": [\n",
    "    {\n",
    "      \"type\": \"people\",\n",
    "      \"id\": 42,\n",
    "      \"attributes\": {\n",
    "        \"name\": \"John\"\n",
    "      }\n",
    "    }\n",
    "  ]\n",
    "};\n",
    "```"
   ]
  },
  {
   "cell_type": "markdown",
   "id": "53e8db66",
   "metadata": {
    "slideshow": {
     "slide_type": "subslide"
    }
   },
   "source": [
    "### JSON datatypes\n",
    "_Source: [wikipedia](https://en.wikipedia.org/wiki/JSON#Syntax)_\n",
    "\n",
    "* Number: no distinction between integer and floating-point.\n",
    "* String: a sequence of zero or more Unicode characters. ```\"text\"```\n",
    "* Boolean: either of the values ```true``` or ```false```\n",
    "* Array: an ordered list of zero or more values, each of which may be of any type. ```[1,2, \"test\"]```\n",
    "* Object: a collection of name–value pairs where the names (also called keys) are strings. Objects are intended to represent associative arrays,[2] where each key is unique within an object.\n",
    "* ```null```: an empty value, using the word null"
   ]
  },
  {
   "cell_type": "markdown",
   "id": "222f05dc",
   "metadata": {
    "slideshow": {
     "slide_type": "notes"
    }
   },
   "source": [
    "* Number: a signed decimal number that may contain a fractional part and may use exponential E notation, but cannot include non-numbers such as NaN. The format makes no distinction between integer and floating-point.\n",
    "* String: a sequence of zero or more Unicode characters. Strings are delimited with double-quotation marks and support a backslash escaping syntax.\n",
    "* Boolean: either of the values ```true``` or ```false```\n",
    "* Array: an ordered list of zero or more values, each of which may be of any type. Arrays use square bracket notation with comma-separated elements.\n",
    "* Object: a collection of name–value pairs where the names (also called keys) are strings. Objects are intended to represent associative arrays,[2] where each key is unique within an object."
   ]
  },
  {
   "cell_type": "markdown",
   "id": "a60f0736",
   "metadata": {
    "slideshow": {
     "slide_type": "subslide"
    }
   },
   "source": [
    "### Working with JSON in Python\n",
    "JSON as inline String"
   ]
  },
  {
   "cell_type": "code",
   "execution_count": null,
   "id": "826bec00",
   "metadata": {},
   "outputs": [],
   "source": [
    "import json\n",
    "\n",
    "# some JSON:\n",
    "x =  '{ \"name\":\"Frederik\", \"city\":\"Copenhagen\", \"Number of toes\": \"10\"}' # JSON as string\n",
    "\n",
    "# parse x:\n",
    "y = json.loads(x) # as dict\n",
    "\n",
    "# the result is a Python dictionary:\n",
    "print(y[\"city\"]) "
   ]
  },
  {
   "cell_type": "markdown",
   "id": "ebc4d726",
   "metadata": {
    "slideshow": {
     "slide_type": "fragment"
    }
   },
   "source": [
    "We can work with Jupyter code cells in VS Code. [link](https://code.visualstudio.com/docs/python/jupyter-support)\n",
    "\n",
    "This allows us to e.g. execute code cells and inspect variables. You can start code cells by inserting ```#%%%``` and executing each cells by pressing ```cmd + enter ``` (macOS) or ```ctrl + enter``` (Windows).\n",
    "\n",
    "```python\n",
    "#%%\n",
    "print('Hello, World')\n",
    "```\n",
    "\n",
    "#### Demo!"
   ]
  },
  {
   "cell_type": "markdown",
   "id": "230215fc",
   "metadata": {
    "slideshow": {
     "slide_type": "notes"
    }
   },
   "source": [
    "Notebooks are extremely useful for developing, debugging and communicating data."
   ]
  },
  {
   "cell_type": "markdown",
   "id": "f849558c",
   "metadata": {
    "slideshow": {
     "slide_type": "subslide"
    }
   },
   "source": [
    "### Loading and saving from JSON from file"
   ]
  },
  {
   "cell_type": "code",
   "execution_count": null,
   "id": "5801c750",
   "metadata": {
    "slideshow": {
     "slide_type": "subslide"
    }
   },
   "outputs": [],
   "source": [
    "# importing the module \n",
    "import json \n",
    "    \n",
    "# Opening JSON file \n",
    "# cities.json download from https://github.com/lutangar/cities.json/blob/master/cities.json or moodle\n",
    "with open('data/cities.json', encoding='utf8') as json_file: \n",
    "    cities = json.load(json_file)\n",
    "    \n",
    "# saving to JSON\n",
    "#with open('data/output.json', 'w') as file_out:\n",
    "#    json.dump(cities , file_out)"
   ]
  },
  {
   "cell_type": "markdown",
   "id": "e3d86a33",
   "metadata": {
    "slideshow": {
     "slide_type": "subslide"
    }
   },
   "source": [
    "### JSON exercises\n",
    "_Using [cities dataset](https://github.com/lutangar/cities.json)_ (can also be found on moodle)\n",
    "* Make a list of cities in Sweden (SE) and [sort by name](https://stackoverflow.com/a/73050).\n",
    "* Make a list of cities that end in \"ville\" and sort by country code.\n",
    "* Make a list of all cities closer than 500 km to Paris (FR) and insert distance to Paris in each dict.\n",
    "    * Tip 1: use the calculate distance method from earlier in the slides\n",
    "    * Tip 2: experiment on sliced subset e.g. ```cities[:50]``` to save time\n",
    "    * You should get 13580 cities including Paris it self\n",
    "* Find the city that's the furthest away from Banket (Zimbabwe / ```ZW```).\n",
    "    * Result should be \"Leilani Estates\"\n",
    "    \n",
    "__Remember to save your solutions!__ _Bonus points for saving results as JSON file._"
   ]
  },
  {
   "cell_type": "markdown",
   "id": "b6296e56",
   "metadata": {
    "slideshow": {
     "slide_type": "slide"
    }
   },
   "source": [
    "## Web APIs\n",
    "* What is an API?\n",
    "* What is a web API?\n",
    "* HTTP request\n",
    "* HTTP request in Python"
   ]
  },
  {
   "cell_type": "markdown",
   "id": "0f442c0c",
   "metadata": {
    "slideshow": {
     "slide_type": "subslide"
    }
   },
   "source": [
    "An application programming interface (API), is a computing interface that defines interactions between multiple software components.\n",
    "\n",
    "A web API is an interface which has one or more endpoints - usually accessed through HTTP."
   ]
  },
  {
   "cell_type": "markdown",
   "id": "97f8c0f1",
   "metadata": {
    "slideshow": {
     "slide_type": "subslide"
    }
   },
   "source": [
    "### HTTP requests\n",
    "> HTTP defines a set of request methods to indicate the desired action to be performed for a given resource. Although they can also be nouns, these request methods are sometimes referred to as HTTP verbs.\n",
    "> \n",
    "> -- <cite>[Mozilla](https://developer.mozilla.org/en-US/docs/Web/HTTP/Methods)</cite>"
   ]
  },
  {
   "cell_type": "markdown",
   "id": "14882c24",
   "metadata": {
    "slideshow": {
     "slide_type": "subslide"
    }
   },
   "source": [
    "Some common HTTP requests include:\n",
    "###### GET\n",
    "The GET method requests a representation of the specified resource. Requests using GET should only retrieve data.\n",
    "######  POST\n",
    "The POST method is used to submit an entity to the specified resource, often causing a change in state or side effects on the server.\n",
    "###### PUT\n",
    "The PUT method replaces all current representations of the target resource with the request payload.\n",
    "###### DELETE\n",
    "The DELETE method deletes the specified resource."
   ]
  },
  {
   "cell_type": "markdown",
   "id": "9324f1b8",
   "metadata": {
    "slideshow": {
     "slide_type": "notes"
    }
   },
   "source": [
    "If we want to access information stored on the internet, the [Requests](https://requests.readthedocs.io/en/master/)-module allows us to do that easily."
   ]
  },
  {
   "cell_type": "markdown",
   "id": "9fc052c5",
   "metadata": {
    "slideshow": {
     "slide_type": "subslide"
    }
   },
   "source": [
    "### HTTP request in python"
   ]
  },
  {
   "cell_type": "code",
   "execution_count": null,
   "id": "d44670c5",
   "metadata": {
    "slideshow": {
     "slide_type": "fragment"
    }
   },
   "outputs": [],
   "source": [
    "import requests\n",
    "# getting HTML\n",
    "r = requests.get('https://ruc.dk/')\n",
    "r.text; # HTML code"
   ]
  },
  {
   "cell_type": "code",
   "execution_count": null,
   "id": "4266ed11",
   "metadata": {
    "slideshow": {
     "slide_type": "fragment"
    }
   },
   "outputs": [],
   "source": [
    "# Reading image\n",
    "from PIL import Image # pip3 install Pillow\n",
    "\n",
    "url = 'https://ruc.dk/sites/default/files/styles/footer_map_image/public/2020-12/campus_overview.jpg?itok=D26B1wen'\n",
    "im = Image.open(requests.get(url, stream=True).raw)\n",
    "im"
   ]
  },
  {
   "cell_type": "markdown",
   "id": "9eef0361",
   "metadata": {
    "slideshow": {
     "slide_type": "subslide"
    }
   },
   "source": [
    "### HTTP requests on API\n",
    "1. Find API\n",
    "2. Read documentation\n",
    "3. Create user with authentication (a must in some cases)\n",
    "4. HTTP requests using ```requests```"
   ]
  },
  {
   "cell_type": "markdown",
   "id": "6f97a4e2",
   "metadata": {
    "slideshow": {
     "slide_type": "subslide"
    }
   },
   "source": [
    "#### Example - Weather\n",
    "https://www.metaweather.com/api/"
   ]
  },
  {
   "cell_type": "markdown",
   "id": "4ef9acd3",
   "metadata": {
    "slideshow": {
     "slide_type": "subslide"
    }
   },
   "source": [
    "##### Location Search\n",
    "**URL** ```/api/location/search/?query=(query)``` or ```/api/location/search/?lattlong=(latt),(long)```\n",
    "\n",
    "**Arguments** Either query or lattlong need to be present.\n",
    "\n",
    "**query** Text to search for.\n",
    "\n",
    "**latlong** Coordinates to search for locations near. Comma separated lattitude and longitude e.g. \"36.96,-122.02\". "
   ]
  },
  {
   "cell_type": "markdown",
   "id": "3825375e",
   "metadata": {
    "slideshow": {
     "slide_type": "subslide"
    }
   },
   "source": [
    "#### Response Fields\n",
    "|Field|Type|Unit|Description|\n",
    "|--- |--- |--- |--- |\n",
    "|title|string||Name of the location|\n",
    "|location_type|string|(City|Region / State / Province|Country|Continent)||\n",
    "|latt_long|floats, comma separated|||\n",
    "|woeid|integer||Where On Earth ID|\n",
    "|distance|integer|Metres|Only returned on a lattlong search|\n"
   ]
  },
  {
   "cell_type": "markdown",
   "id": "756219fe",
   "metadata": {
    "slideshow": {
     "slide_type": "subslide"
    }
   },
   "source": [
    "Examples\n",
    "*   [/api/location/search/?query=san](https://www.metaweather.com/api/location/search/?query=san)\n",
    "*   [/api/location/search/?query=london](https://www.metaweather.com/api/location/search/?query=london)\n",
    "*   [/api/location/search/?lattlong=36.96,-122.02](https://www.metaweather.com/api/location/search/?lattlong=36.96,-122.02)\n",
    "*   [/api/location/search/?lattlong=50.068,-5.316](https://www.metaweather.com/api/location/search/?lattlong=50.068,-5.316)"
   ]
  },
  {
   "cell_type": "code",
   "execution_count": null,
   "id": "afd90074",
   "metadata": {
    "slideshow": {
     "slide_type": "subslide"
    }
   },
   "outputs": [],
   "source": [
    "import requests\n",
    "\n",
    "ruc_coordinates = (55.65315552816671, 12.14078009885621) # lat, lon\n",
    "\n",
    "# defining a params dict for the parameters to be sent to the API \n",
    "ruc_coordinates = (55.65315552816671, 12.14078009885621) # lat, lon\n",
    "\n",
    "# format as comma separated lattitude and longitude\n",
    "ruc_coordinates_formatted = str(ruc_coordinates).strip('(').strip(')')\n",
    "payload = {'lattlong': ruc_coordinates_formatted}\n",
    "  \n",
    "# sending get request and saving the response as response object \n",
    "url = \"https://www.metaweather.com/api/location/search/\"\n",
    "r = requests.get(url = \"https://www.metaweather.com/api/location/search/\", params = payload) \n",
    "  \n",
    "# extracting data in json format \n",
    "response = r.json() \n",
    "response"
   ]
  },
  {
   "cell_type": "code",
   "execution_count": null,
   "id": "f514afb9",
   "metadata": {
    "slideshow": {
     "slide_type": "subslide"
    }
   },
   "outputs": [],
   "source": [
    "# sending get request and saving the response as response object \n",
    "params = {'query': 'copenhagen'}\n",
    "r = requests.get(url = \"https://www.metaweather.com/api/location/search/\", params = params) \n",
    "  \n",
    "# extracting data in json format \n",
    "response = r.json() "
   ]
  },
  {
   "cell_type": "code",
   "execution_count": null,
   "id": "43b0c20d",
   "metadata": {
    "slideshow": {
     "slide_type": "subslide"
    }
   },
   "outputs": [],
   "source": [
    "r = requests.get(url = \"https://www.metaweather.com/api/location/\" + str(response[0]['woeid'])) \n",
    "  \n",
    "# extracting data in json format \n",
    "response = r.json() \n",
    "response"
   ]
  },
  {
   "cell_type": "markdown",
   "id": "aa9df77e",
   "metadata": {
    "slideshow": {
     "slide_type": "subslide"
    }
   },
   "source": [
    "## Exercises!\n",
    "1. Find interesting API [here](https://mixedanalytics.com/blog/list-actually-free-open-no-auth-needed-apis/), [here](https://learn.vonage.com/blog/2021/03/15/the-ultimate-list-of-fun-apis-for-your-next-coding-project/) or [here!](https://betterprogramming.pub/a-curated-list-of-100-cool-and-fun-public-apis-to-inspire-your-next-project-7600ce3e9b3)\n",
    "2. Get and interpret data using ```requests```and the dictionary and string techniques we have learned\n",
    "3. _Ideas and examples:_\n",
    "    * Create a list of tuples with US states and population count. Sort by most inhabitants - [API](https://datausa.io/about/api/)\n",
    "    * Let the user input the name of a TV show and return the genres - [API](https://www.tvmaze.com/api)\n",
    "    * Make a chat bot that tells jokes - [API](https://sv443.net/jokeapi/v2/)\n",
    "    * Let the user input the name of a country and return all universities in that city - [API](http://universities.hipolabs.com/search?country=Denmark)"
   ]
  }
 ],
 "metadata": {
  "celltoolbar": "Slideshow",
  "kernelspec": {
   "display_name": "Python 3 (ipykernel)",
   "language": "python",
   "name": "python3"
  },
  "language_info": {
   "codemirror_mode": {
    "name": "ipython",
    "version": 3
   },
   "file_extension": ".py",
   "mimetype": "text/x-python",
   "name": "python",
   "nbconvert_exporter": "python",
   "pygments_lexer": "ipython3",
   "version": "3.9.7"
  }
 },
 "nbformat": 4,
 "nbformat_minor": 5
}
