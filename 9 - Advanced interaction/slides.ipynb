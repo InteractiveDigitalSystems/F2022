{
 "cells": [
  {
   "cell_type": "markdown",
   "id": "pursuant-diving",
   "metadata": {
    "slideshow": {
     "slide_type": "slide"
    }
   },
   "source": [
    "# IDS #9 - Advanced interaction techniques"
   ]
  },
  {
   "cell_type": "markdown",
   "id": "raised-employer",
   "metadata": {
    "slideshow": {
     "slide_type": "slide"
    }
   },
   "source": [
    "## Agenda\n",
    "* Finishing off the course\n",
    "    * Final hand-in\n",
    "    * Exam procedure\n",
    "* Advanced Interaction techniques\n",
    "    * Advanced Python (lambda expressions, list comprehensions)\n",
    "    * Threading\n",
    "    * Open Sound Control\n",
    "* Development strategies for interactive systems"
   ]
  },
  {
   "cell_type": "markdown",
   "id": "6804964e",
   "metadata": {
    "slideshow": {
     "slide_type": "subslide"
    }
   },
   "source": [
    "# Final hand-in and exam procedure"
   ]
  },
  {
   "cell_type": "markdown",
   "id": "46308fbe",
   "metadata": {
    "slideshow": {
     "slide_type": "subslide"
    }
   },
   "source": [
    "## Final hand-in\n",
    "Due date and upload [eksamen.ruc.dk](http://www.eksamen.ruc.dk)"
   ]
  },
  {
   "cell_type": "markdown",
   "id": "frank-bubble",
   "metadata": {
    "slideshow": {
     "slide_type": "slide"
    }
   },
   "source": [
    "## Advanced Interaction Techniques"
   ]
  },
  {
   "cell_type": "markdown",
   "id": "2c72117f",
   "metadata": {
    "slideshow": {
     "slide_type": "slide"
    }
   },
   "source": [
    "# Multithreading\n",
    "* What is threaded programming?\n",
    "* Why use threads?"
   ]
  },
  {
   "cell_type": "markdown",
   "id": "041806c7",
   "metadata": {},
   "source": [
    "### What is multithreading?\n",
    "* The ability to run multiple \"threads\" simultaneously on a CPU (single core or multicore).\n",
    "* Create programs or software that allows for many different things to happen simultaneously\n"
   ]
  },
  {
   "cell_type": "code",
   "execution_count": 6,
   "id": "403430f0",
   "metadata": {
    "slideshow": {
     "slide_type": "slide"
    }
   },
   "outputs": [
    {
     "name": "stdout",
     "output_type": "stream",
     "text": [
      "Thread: 1 + 0.8079604528647231\n",
      "Thread: 2 + 0\n",
      "Thread: 1 + 0.9418330241863393\n",
      "Thread: 1 + 0.7996357005782844\n",
      "Thread: 2 + 1\n",
      "Thread: 1 + 0.9914290781793351\n",
      "Thread: 1 + 0.38796933409583567\n",
      "Thread: 1 + 0.16752991821402263\n",
      "Thread: 2 + 2\n",
      "Thread: 1 + 0.9788798926884269\n",
      "Thread: 1 + 0.36918891090477535\n",
      "Thread: 1 + 0.46802385108002464\n",
      "Thread: 2 + 3\n",
      "Thread: 1 + 0.8456504322553612\n",
      "Thread: 2 + 4\n",
      "Thread: 2 + 5\n",
      "Thread: 2 + 6\n",
      "Thread: 2 + 7\n",
      "Thread: 2 + 8\n",
      "Thread: 2 + 9\n",
      "Done!\n"
     ]
    }
   ],
   "source": [
    "import threading \n",
    "import time\n",
    "from random import random\n",
    "  \n",
    "def randomNumbers(n,threadNumber=False): \n",
    "    for nn in range(n):\n",
    "        r = random()\n",
    "        output = f'Thread: {threadNumber} + {r}' if threadNumber else f'{r}'\n",
    "        print(output)\n",
    "        time.sleep(0.1)\n",
    "        \n",
    "def countToN(n, threadNumber=False): \n",
    "    for nn in range(n):\n",
    "        output = f'Thread: {threadNumber} + {nn}' if threadNumber else f'{nn}'\n",
    "        print (output)\n",
    "        time.sleep(0.3)\n",
    "        nn+=1\n",
    "\n",
    "# creating thread \n",
    "t1 = threading.Thread(target=randomNumbers, args=(10,1)) \n",
    "t2 = threading.Thread(target=countToN, args=(10,2)) \n",
    "\n",
    "# starting thread 1 \n",
    "t1.start() \n",
    "# starting thread 2 \n",
    "t2.start() \n",
    "\n",
    "t1.join() # wait until thread 1 is completely executed \n",
    "t2.join() # wait until thread 2 is completely executed \n",
    "\n",
    "# both threads completely executed  \n",
    "print(\"Done!\") "
   ]
  },
  {
   "cell_type": "markdown",
   "id": "debcba4c",
   "metadata": {
    "slideshow": {
     "slide_type": "subslide"
    }
   },
   "source": [
    "Usage for listening and sending UDP simulatenously - [example](using_threads.py)"
   ]
  },
  {
   "cell_type": "markdown",
   "id": "6493e995",
   "metadata": {
    "slideshow": {
     "slide_type": "slide"
    }
   },
   "source": [
    "## What is Open Sound Control?\n",
    "* Network protocol originally meant for controlling music and interaction\n",
    "* Uses address patterns\n",
    "* E.g. TUIO is based on OSC.\n",
    "* Typically uses UDP"
   ]
  },
  {
   "cell_type": "markdown",
   "id": "c87351bb",
   "metadata": {
    "slideshow": {
     "slide_type": "subslide"
    }
   },
   "source": [
    "### Supported [datatypes](https://www.music.mcgill.ca/~gary/306/week9/osc.html)\n",
    "* int32\n",
    "* float32\n",
    "* OSC-timetag (64-bit int representing Internet NTP timestamps ... seconds and picoseconds since midnight on 1 January 1900)\n",
    "* OSC-string (ascii characters followed by a NULL, then padded with 0-3 NULL characters so that total length in bytes is a multiple of 4)\n",
    "* OSC-blob (32-bit byte count followed by that many bytes and then padded with zeroes so that total length in bytes is a multiple of 4)\n"
   ]
  },
  {
   "cell_type": "markdown",
   "id": "9e8ba75a",
   "metadata": {
    "slideshow": {
     "slide_type": "subslide"
    }
   },
   "source": [
    "### OSC messages\n",
    "* Address patterns are strings starting wit `/`followed by routing\n",
    "    * e.g. `/landmarks/hand/thumb/`\n",
    "    * e.g. `/synth/bass/osc/filter`\n",
    "* You can do more advanced pattern-matching using wildcards `*`\n",
    "* OSC messages are then address patterns + an argument\n",
    "    * e.g. `/landmarks/hand/thumb/ 2.4 1.6 0.1` (x,y,z coordinate)\n",
    "\n",
    "_Source [McGill](https://www.music.mcgill.ca/~gary/306/week9/osc.html)_"
   ]
  },
  {
   "cell_type": "markdown",
   "id": "3f35e86e",
   "metadata": {
    "slideshow": {
     "slide_type": "subslide"
    }
   },
   "source": [
    "## Why use OSC?\n",
    "* Usage of protocols allows for quick prototyping\n",
    "* Convenient to not have to rewrite parser of UDP messages\n",
    "* Widely supported by interaction and multimedia software (Unity, Max, Ableton, Logic, Unreal, SuperCollider, openFrameworks, etc. etc etc.)\n",
    "* Allows for collaboration with deciding on communication protocols and then being able to divide work"
   ]
  },
  {
   "cell_type": "markdown",
   "id": "93537b98",
   "metadata": {
    "slideshow": {
     "slide_type": "subslide"
    }
   },
   "source": [
    "![img](https://faaip.github.io/portfolio/assets/gloria.jpg)"
   ]
  },
  {
   "cell_type": "markdown",
   "id": "7337c83a",
   "metadata": {
    "slideshow": {
     "slide_type": "subslide"
    }
   },
   "source": [
    "![img](https://faaip.github.io/portfolio/assets/Update_1.jpg)"
   ]
  },
  {
   "cell_type": "markdown",
   "id": "79de23fe",
   "metadata": {
    "slideshow": {
     "slide_type": "slide"
    }
   },
   "source": [
    "# Development strategies and tips for interactive systems\n",
    "* Divide and conquer!\n",
    "* Emulate!\n",
    "* Isolate and test!\n",
    "* Reuse!\n",
    "* Be mindful of processing power.\n",
    "* Git (branch, commit, experiment, save! (gist / repo)\n",
    "* Open source contribution\n",
    "* Isolated systems communicating using UDP or OSC are your friends!\n",
    "* Pick the right tool for the right job. A lot of frameworks can be useful without having to learn everything."
   ]
  },
  {
   "cell_type": "markdown",
   "id": "7fc2d305",
   "metadata": {
    "slideshow": {
     "slide_type": "subslide"
    }
   },
   "source": [
    "## Divide and conquer\n",
    "\n",
    "> - A problem can be divided in several parts, so that each part can be handled independently.\n",
    "> - Handling each one of the smaller parts that compose a problem is less complex than handling the whole problem, and thus we can “conquer” it.\n",
    ">\n",
    "> <cite> [Effective Software Design blog post](https://effectivesoftwaredesign.com/2011/06/06/divide-and-conquer-coping-with-complexity/) </cite>\n",
    "\n",
    "Statement above applies to algorithm design, but can also be applied on general software development and design."
   ]
  },
  {
   "cell_type": "markdown",
   "id": "c1f8d6f9",
   "metadata": {
    "slideshow": {
     "slide_type": "subslide"
    }
   },
   "source": [
    "## Emulate!\n",
    "* Emulate or fake inputs and outputs"
   ]
  },
  {
   "cell_type": "markdown",
   "id": "4c2ca9d9",
   "metadata": {
    "slideshow": {
     "slide_type": "subslide"
    }
   },
   "source": [
    "## Isolate and test\n",
    "* Print statements\n",
    "* Divide into functions\n",
    "* Useful tools such as [cProfile and profile](https://docs.python.org/3/library/profile.html) for determining how often and for how long various parts are run\n",
    "* Use a debugger!"
   ]
  },
  {
   "cell_type": "markdown",
   "id": "db287d30",
   "metadata": {
    "slideshow": {
     "slide_type": "subslide"
    }
   },
   "source": [
    "## Reuse!\n",
    "* Create functions that do one thing\n",
    "* Suddenly reusable in my other scenarios\n",
    "* \"Never write the same code twice\" - probably not true!"
   ]
  },
  {
   "cell_type": "markdown",
   "id": "3bfc600f",
   "metadata": {
    "slideshow": {
     "slide_type": "subslide"
    }
   },
   "source": [
    "## Be mindful of processing power!\n",
    "* Especially DNN can be very computationally expensive to use.\n",
    "* Do we have alternatives? Can the tasks be divided?"
   ]
  },
  {
   "cell_type": "markdown",
   "id": "bed04976",
   "metadata": {
    "slideshow": {
     "slide_type": "subslide"
    }
   },
   "source": [
    "## git\n",
    "* Repositories\n",
    "* Branches\n",
    "* gists\n",
    "\n",
    "*All allow for more experimentation!*\n",
    "\n",
    "* Do a pull-request if you happen to find or fix a bug or add a new feature to existing software!"
   ]
  },
  {
   "cell_type": "markdown",
   "id": "fbb6ef44",
   "metadata": {
    "slideshow": {
     "slide_type": "subslide"
    }
   },
   "source": [
    "## Isolated systems communicating using UDP, OSC or APIs\n",
    "* Decide on an API\n",
    "* Create parts in isolation\n",
    "* Elements become replaceable"
   ]
  },
  {
   "cell_type": "markdown",
   "id": "4a296550",
   "metadata": {
    "slideshow": {
     "slide_type": "subslide"
    }
   },
   "source": [
    "## Pick the right tool for the right job.\n",
    "* A lot of frameworks can be useful without having to learn everything.\n",
    "* Going in-depth is, however, often very fruitful\n",
    "* Don't be afraid of new languages"
   ]
  },
  {
   "cell_type": "markdown",
   "id": "86075a42",
   "metadata": {
    "slideshow": {
     "slide_type": "subslide"
    }
   },
   "source": [
    "## Exam procedure\n",
    "- 15 minute exam (including 3 mins for dicussing grade and feedback).\n",
    "- You present your work for a few minutes and then we discuss the report, code and the approaches you've presented.\n",
    "- Prepare by re-reading your report, understanding your code, re-visit slides and exercises from the lecture.\n",
    "\n",
    "\n",
    "##### Questions?"
   ]
  }
 ],
 "metadata": {
  "celltoolbar": "Slideshow",
  "kernelspec": {
   "display_name": "Python 3",
   "language": "python",
   "name": "python3"
  },
  "language_info": {
   "codemirror_mode": {
    "name": "ipython",
    "version": 3
   },
   "file_extension": ".py",
   "mimetype": "text/x-python",
   "name": "python",
   "nbconvert_exporter": "python",
   "pygments_lexer": "ipython3",
   "version": "3.9.10"
  }
 },
 "nbformat": 4,
 "nbformat_minor": 5
}
