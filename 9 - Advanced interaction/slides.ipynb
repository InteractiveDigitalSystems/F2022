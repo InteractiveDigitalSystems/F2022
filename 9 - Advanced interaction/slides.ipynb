{
 "cells": [
  {
   "cell_type": "markdown",
   "id": "announced-quest",
   "metadata": {
    "slideshow": {
     "slide_type": "slide"
    }
   },
   "source": [
    "# IDS #9 - Advanced interaction techniques"
   ]
  },
  {
   "cell_type": "markdown",
   "id": "stable-niagara",
   "metadata": {
    "slideshow": {
     "slide_type": "slide"
    }
   },
   "source": [
    "## Agenda\n",
    "* Finishing off the course\n",
    "    * Recap\n",
    "    * Final hand-in\n",
    "    * Exam procedure\n",
    "* Programming techniques\n",
    "    * Advanced Python (lambda expressions, list comprehensions)\n",
    "    * Threading\n",
    "    * Open Sound Control\n",
    "* Development strategies for interactive systems"
   ]
  },
  {
   "cell_type": "markdown",
   "id": "orange-jackson",
   "metadata": {
    "slideshow": {
     "slide_type": "subslide"
    }
   },
   "source": [
    "### Recap\n",
    "1. Interaction with humans #1: How to program a button in P5js\n",
    "2. Interaction with humans #2: How to make a physical button in ESP32\n",
    "3. Connecting Machines #1: ESP32 + P5JS\n",
    "4. Lab day\n",
    "5. Python 101\n",
    "6. Connecting Machines #2: JSON Python network (Dict, API, JSON)\n",
    "7. Introduction to Machine Learning concepts\n",
    "8. Training and using Machine Learning models\n",
    "9. Advanced interaction\n",
    "10. Lab day"
   ]
  },
  {
   "cell_type": "markdown",
   "id": "approved-conspiracy",
   "metadata": {
    "slideshow": {
     "slide_type": "subslide"
    }
   },
   "source": [
    "# Final hand-in and exam procedure"
   ]
  },
  {
   "cell_type": "markdown",
   "id": "enabling-driving",
   "metadata": {
    "slideshow": {
     "slide_type": "subslide"
    }
   },
   "source": [
    "## Final hand-in\n",
    "Due date and upload [eksamen.ruc.dk](http://www.eksamen.ruc.dk)"
   ]
  },
  {
   "cell_type": "markdown",
   "id": "south-overall",
   "metadata": {
    "slideshow": {
     "slide_type": "subslide"
    }
   },
   "source": [
    "## Advanced Python topics\n",
    "* lambda expressions\n",
    "* list comprehensions"
   ]
  },
  {
   "cell_type": "markdown",
   "id": "behind-revision",
   "metadata": {
    "slideshow": {
     "slide_type": "subslide"
    }
   },
   "source": [
    "### Advanced Python learning goals\n",
    "* More familiarity with advanced Python concepts\n",
    "* Tricks and tools for writing better software in Python\n",
    "* Allow yourself to understand existing Python code better"
   ]
  },
  {
   "cell_type": "markdown",
   "id": "aerial-gazette",
   "metadata": {
    "slideshow": {
     "slide_type": "subslide"
    }
   },
   "source": [
    "## Lambda expressions\n",
    "Using the keyword ```lambda``` we can write functions without the ```def```-keyword. Lambda functions are used for simple functions allowing using to write simple short programs."
   ]
  },
  {
   "cell_type": "markdown",
   "id": "terminal-marketplace",
   "metadata": {
    "slideshow": {
     "slide_type": "notes"
    }
   },
   "source": [
    "A Lambda function is a small anonymous function meaning that it's defined without a name (the def-keyword). Lambdas are used when we need a anonymous function for a short while.\n"
   ]
  },
  {
   "cell_type": "code",
   "execution_count": 17,
   "id": "essential-associate",
   "metadata": {
    "slideshow": {
     "slide_type": "subslide"
    }
   },
   "outputs": [],
   "source": [
    "f = lambda x: x + 1\n",
    "\n",
    "def g(x):\n",
    "    return x + 1"
   ]
  },
  {
   "cell_type": "markdown",
   "id": "configured-enough",
   "metadata": {
    "slideshow": {
     "slide_type": "subslide"
    }
   },
   "source": [
    "In Python the ```filter()```-function takes a function and a list as an  input. To make our code more concise, we could pass a lambda functions as the first argument: - more code examples [here](https://www.programiz.com/python-programming/anonymous-function)"
   ]
  },
  {
   "cell_type": "code",
   "execution_count": 20,
   "id": "japanese-senator",
   "metadata": {
    "slideshow": {
     "slide_type": "fragment"
    }
   },
   "outputs": [
    {
     "name": "stdout",
     "output_type": "stream",
     "text": [
      "[4, 6, 8, 12]\n"
     ]
    }
   ],
   "source": [
    "my_list = [1, 5, 4, 6, 8, 11, 3, 12]\n",
    "\n",
    "# filter integers divisible by two (even numbers)\n",
    "new_list = list(filter(lambda x: (x%2 == 0) , my_list)) \n",
    "\n",
    "print(new_list)"
   ]
  },
  {
   "cell_type": "code",
   "execution_count": 24,
   "id": "broke-japanese",
   "metadata": {
    "slideshow": {
     "slide_type": "subslide"
    }
   },
   "outputs": [
    {
     "name": "stdout",
     "output_type": "stream",
     "text": [
      "[('Denmark', 5792202), ('Angola', 33605183), ('Iran', 84746528)]\n"
     ]
    }
   ],
   "source": [
    "# https://discuss.codecademy.com/t/what-is-the-difference-between-sort-and-sorted/349679\n",
    "lst = [('Denmark',5792202), ('Angola',33605183), ('Iran',84746528)]\n",
    "lst.sort(key=lambda x:x[1])\n",
    "print(lst)"
   ]
  },
  {
   "cell_type": "markdown",
   "id": "skilled-morocco",
   "metadata": {
    "slideshow": {
     "slide_type": "subslide"
    }
   },
   "source": [
    "### Lambda expression exercises\n",
    "1. Create a lambda expression which takes ```z``` as a parameter and returns ```z*10```\n",
    "2. Write a lambda expression which takes two arguments: ```a``` and ```b``` and returns the multiplication of them: ```a*b```. \n",
    "3. Sort a list of lists by the length of the lists using a lambda expression:\n",
    "    * Input: ```[['x','y','z','d'], ['a'], ['g','d','e'],['t','y']]```\n",
    "    * Output: ```[['a'], ['t', 'y'], ['g', 'd', 'e'], ['x', 'y', 'z', 'd']]```\n",
    "    * Hint: use ```sort```and ```len```"
   ]
  },
  {
   "cell_type": "code",
   "execution_count": null,
   "id": "phantom-delaware",
   "metadata": {
    "slideshow": {
     "slide_type": "subslide"
    }
   },
   "outputs": [],
   "source": []
  },
  {
   "cell_type": "markdown",
   "id": "unlimited-fortune",
   "metadata": {
    "slideshow": {
     "slide_type": "subslide"
    }
   },
   "source": [
    "## List comprehensions - why and what?\n",
    "_Many of the points here are elaborated on [datacamp](https://www.datacamp.com/community/tutorials/python-list-comprehension)._\n",
    "* The creation of lists can take up a lot of space and is error prone.\n",
    "\n",
    "_Example:_ creating a list of all numbers between 1 and 10 and square each number:"
   ]
  },
  {
   "cell_type": "code",
   "execution_count": 38,
   "id": "single-farming",
   "metadata": {
    "slideshow": {
     "slide_type": "fragment"
    }
   },
   "outputs": [
    {
     "data": {
      "text/plain": [
       "[1, 4, 9, 16, 25, 36, 49, 64, 81]"
      ]
     },
     "execution_count": 38,
     "metadata": {},
     "output_type": "execute_result"
    }
   ],
   "source": [
    "output = []\n",
    "\n",
    "for i in range(1,10):\n",
    "    output.append(i**2)\n",
    "        \n",
    "output"
   ]
  },
  {
   "cell_type": "markdown",
   "id": "technical-provincial",
   "metadata": {
    "slideshow": {
     "slide_type": "subslide"
    }
   },
   "source": [
    "List comprehensions are a way of applying mathematical notation for description of lists to create new lists! In Python list are created as follows:\n",
    "\n",
    "```python\n",
    "list_variable = [expression for item in collection]\n",
    "```\n",
    "\n",
    "With list comprehensions the previous code is now:"
   ]
  },
  {
   "cell_type": "code",
   "execution_count": 39,
   "id": "decimal-imaging",
   "metadata": {
    "slideshow": {
     "slide_type": "fragment"
    }
   },
   "outputs": [
    {
     "data": {
      "text/plain": [
       "[1, 4, 9, 16, 25, 36, 49, 64, 81]"
      ]
     },
     "execution_count": 39,
     "metadata": {},
     "output_type": "execute_result"
    }
   ],
   "source": [
    "output = [i**2 for i in range(1,10)]\n",
    "output"
   ]
  },
  {
   "cell_type": "markdown",
   "id": "gothic-jaguar",
   "metadata": {
    "slideshow": {
     "slide_type": "subslide"
    }
   },
   "source": [
    "List comprehesions can also contain ```if```-statements, which are placed after the ```for```-loop:\n",
    "\n",
    "```list_variable = [expression for item in collection if item]```"
   ]
  },
  {
   "cell_type": "code",
   "execution_count": 44,
   "id": "confirmed-value",
   "metadata": {
    "slideshow": {
     "slide_type": "fragment"
    }
   },
   "outputs": [
    {
     "data": {
      "text/plain": [
       "[4, 16, 36, 64, 100]"
      ]
     },
     "execution_count": 44,
     "metadata": {},
     "output_type": "execute_result"
    }
   ],
   "source": [
    "# same as previous but only with even numbers\n",
    "output = [i**2 for i in range(1,10+1) if i %2 == 0]\n",
    "output"
   ]
  },
  {
   "cell_type": "markdown",
   "id": "retired-shield",
   "metadata": {
    "slideshow": {
     "slide_type": "subslide"
    }
   },
   "source": [
    "This of course also works without ranges and on other data types."
   ]
  },
  {
   "cell_type": "code",
   "execution_count": 46,
   "id": "musical-contamination",
   "metadata": {
    "slideshow": {
     "slide_type": "fragment"
    }
   },
   "outputs": [
    {
     "name": "stdout",
     "output_type": "stream",
     "text": [
      "['A', 'Boring', 'List']\n",
      "[71.6, 82.4, 91.4, 107.6, 125.6]\n"
     ]
    }
   ],
   "source": [
    "old_list = [\"a\", \"boring\", \"list\"]\n",
    "new_list = [ x.capitalize() for x in old_list ]\n",
    "print(new_list)\n",
    "\n",
    "celsius = [22, 28, 33, 42, 52]\n",
    "fahr = [e * 9/5 + 32 for e in celsius]\n",
    "print(fahr)"
   ]
  },
  {
   "cell_type": "markdown",
   "id": "muslim-tiffany",
   "metadata": {
    "slideshow": {
     "slide_type": "subslide"
    }
   },
   "source": [
    "### Filtering using list comprehensions"
   ]
  },
  {
   "cell_type": "code",
   "execution_count": 52,
   "id": "genetic-waterproof",
   "metadata": {},
   "outputs": [
    {
     "name": "stdout",
     "output_type": "stream",
     "text": [
      "[2, 12, 3] ['a', 'c', 'd']\n"
     ]
    }
   ],
   "source": [
    "a = ['a', 2, 'c', 12, 3, 'd']\n",
    "\n",
    "b = [e for e in a if type(e) == int]\n",
    "c = [e for e in a if type(e) == str]\n",
    "\n",
    "print(b, c)"
   ]
  },
  {
   "cell_type": "markdown",
   "id": "unnecessary-optimum",
   "metadata": {
    "slideshow": {
     "slide_type": "subslide"
    }
   },
   "source": [
    "### List comprehension exercise (15 min! As many as you can do)\n",
    "* Find all of the numbers from 1-1000 that are divisible by 7\n",
    "* Remove all strings from list ```['Hallo','Hey', 'Hei', 'Konnichi wa']``` if they start with ```H```. _Hint:_ use `.startswith()`\n",
    "* Find all of the numbers from 1-1000 that have a 7 in them (hint: convert to string!)\n",
    "* Create a new list removing all negative numbers from the list ```[-25, 12.1, -0.005, 4, 10.2]```\n",
    "* Remove all of the vowels in a string (_Hint: use ```in```-keyword and the fact that strings are sequences of characters_)\n",
    "* Create a new list from ```[1, 2, 3, 4, 5, 6, 7, 8, 9, 10]``` where an element is multiplied by two if between ```2```and ```7```."
   ]
  },
  {
   "cell_type": "markdown",
   "id": "aboriginal-valentine",
   "metadata": {
    "slideshow": {
     "slide_type": "slide"
    }
   },
   "source": [
    "# Multithreading\n",
    "* What is threaded programming?\n",
    "* Why use threads?"
   ]
  },
  {
   "cell_type": "markdown",
   "id": "antique-lightweight",
   "metadata": {},
   "source": [
    "### What is multithreading?\n",
    "* The ability to run multiple \"threads\" simultaneously on a CPU (single core or multicore).\n",
    "* Create programs or software that allows for many different things to happen simultaneously\n"
   ]
  },
  {
   "cell_type": "code",
   "execution_count": 6,
   "id": "stuck-times",
   "metadata": {
    "slideshow": {
     "slide_type": "slide"
    }
   },
   "outputs": [
    {
     "name": "stdout",
     "output_type": "stream",
     "text": [
      "Thread: 1 + 0.8079604528647231\n",
      "Thread: 2 + 0\n",
      "Thread: 1 + 0.9418330241863393\n",
      "Thread: 1 + 0.7996357005782844\n",
      "Thread: 2 + 1\n",
      "Thread: 1 + 0.9914290781793351\n",
      "Thread: 1 + 0.38796933409583567\n",
      "Thread: 1 + 0.16752991821402263\n",
      "Thread: 2 + 2\n",
      "Thread: 1 + 0.9788798926884269\n",
      "Thread: 1 + 0.36918891090477535\n",
      "Thread: 1 + 0.46802385108002464\n",
      "Thread: 2 + 3\n",
      "Thread: 1 + 0.8456504322553612\n",
      "Thread: 2 + 4\n",
      "Thread: 2 + 5\n",
      "Thread: 2 + 6\n",
      "Thread: 2 + 7\n",
      "Thread: 2 + 8\n",
      "Thread: 2 + 9\n",
      "Done!\n"
     ]
    }
   ],
   "source": [
    "import threading \n",
    "import time\n",
    "from random import random\n",
    "  \n",
    "def randomNumbers(n,threadNumber=False): \n",
    "    for nn in range(n):\n",
    "        r = random()\n",
    "        output = f'Thread: {threadNumber} + {r}' if threadNumber else f'{r}'\n",
    "        print(output)\n",
    "        time.sleep(0.1)\n",
    "        \n",
    "def countToN(n, threadNumber=False): \n",
    "    for nn in range(n):\n",
    "        output = f'Thread: {threadNumber} + {nn}' if threadNumber else f'{nn}'\n",
    "        print (output)\n",
    "        time.sleep(0.3)\n",
    "        nn+=1\n",
    "\n",
    "# creating thread \n",
    "t1 = threading.Thread(target=randomNumbers, args=(10,1)) \n",
    "t2 = threading.Thread(target=countToN, args=(10,2)) \n",
    "\n",
    "# starting thread 1 \n",
    "t1.start() \n",
    "# starting thread 2 \n",
    "t2.start() \n",
    "\n",
    "t1.join() # wait until thread 1 is completely executed \n",
    "t2.join() # wait until thread 2 is completely executed \n",
    "\n",
    "# both threads completely executed  \n",
    "print(\"Done!\") "
   ]
  },
  {
   "cell_type": "markdown",
   "id": "impressive-upper",
   "metadata": {
    "slideshow": {
     "slide_type": "subslide"
    }
   },
   "source": [
    "Usage for listening and sending UDP simulatenously - [example](using_threads.py)"
   ]
  },
  {
   "cell_type": "markdown",
   "id": "specific-melissa",
   "metadata": {
    "slideshow": {
     "slide_type": "slide"
    }
   },
   "source": [
    "## What is Open Sound Control?\n",
    "* Network protocol originally meant for controlling music and interaction\n",
    "* Uses address patterns\n",
    "* E.g. TUIO is based on OSC.\n",
    "* Typically uses UDP"
   ]
  },
  {
   "cell_type": "markdown",
   "id": "following-token",
   "metadata": {
    "slideshow": {
     "slide_type": "subslide"
    }
   },
   "source": [
    "### Supported [datatypes](https://www.music.mcgill.ca/~gary/306/week9/osc.html)\n",
    "* int32\n",
    "* float32\n",
    "* OSC-timetag (64-bit int representing Internet NTP timestamps ... seconds and picoseconds since midnight on 1 January 1900)\n",
    "* OSC-string (ascii characters followed by a NULL, then padded with 0-3 NULL characters so that total length in bytes is a multiple of 4)\n",
    "* OSC-blob (32-bit byte count followed by that many bytes and then padded with zeroes so that total length in bytes is a multiple of 4)\n"
   ]
  },
  {
   "cell_type": "markdown",
   "id": "chronic-sharp",
   "metadata": {
    "slideshow": {
     "slide_type": "subslide"
    }
   },
   "source": [
    "### OSC messages\n",
    "* Address patterns are strings starting wit `/`followed by routing\n",
    "    * e.g. `/landmarks/hand/thumb/`\n",
    "    * e.g. `/synth/bass/osc/filter`\n",
    "* You can do more advanced pattern-matching using wildcards `*`\n",
    "* OSC messages are then address patterns + an argument\n",
    "    * e.g. `/landmarks/hand/thumb/ 2.4 1.6 0.1` (x,y,z coordinate)\n",
    "\n",
    "_Source [McGill](https://www.music.mcgill.ca/~gary/306/week9/osc.html)_"
   ]
  },
  {
   "cell_type": "markdown",
   "id": "ultimate-glenn",
   "metadata": {
    "slideshow": {
     "slide_type": "subslide"
    }
   },
   "source": [
    "## Why use OSC?\n",
    "* Usage of protocols allows for quick prototyping\n",
    "* Convenient to not have to rewrite parser of UDP messages\n",
    "* Widely supported by interaction and multimedia software (Unity, Max, Ableton, Logic, Unreal, SuperCollider, openFrameworks, etc. etc etc.)\n",
    "* Allows for collaboration with deciding on communication protocols and then being able to divide work"
   ]
  },
  {
   "cell_type": "markdown",
   "id": "south-blind",
   "metadata": {
    "slideshow": {
     "slide_type": "subslide"
    }
   },
   "source": [
    "![img](https://faaip.github.io/portfolio/assets/gloria.jpg)"
   ]
  },
  {
   "cell_type": "markdown",
   "id": "choice-transaction",
   "metadata": {
    "slideshow": {
     "slide_type": "subslide"
    }
   },
   "source": [
    "![img](https://faaip.github.io/portfolio/assets/Update_1.jpg)"
   ]
  },
  {
   "cell_type": "markdown",
   "id": "convertible-consultancy",
   "metadata": {
    "slideshow": {
     "slide_type": "slide"
    }
   },
   "source": [
    "# Development strategies and tips for interactive systems\n",
    "* Divide and conquer!\n",
    "* Emulate!\n",
    "* Isolate and test!\n",
    "* Reuse!\n",
    "* Be mindful of processing power.\n",
    "* Git (branch, commit, experiment, save! (gist / repo)\n",
    "* Open source contribution\n",
    "* Isolated systems communicating using UDP or OSC are your friends!\n",
    "* Pick the right tool for the right job. A lot of frameworks can be useful without having to learn everything."
   ]
  },
  {
   "cell_type": "markdown",
   "id": "genuine-suggestion",
   "metadata": {
    "slideshow": {
     "slide_type": "subslide"
    }
   },
   "source": [
    "## Divide and conquer\n",
    "\n",
    "> - A problem can be divided in several parts, so that each part can be handled independently.\n",
    "> - Handling each one of the smaller parts that compose a problem is less complex than handling the whole problem, and thus we can “conquer” it.\n",
    ">\n",
    "> <cite> [Effective Software Design blog post](https://effectivesoftwaredesign.com/2011/06/06/divide-and-conquer-coping-with-complexity/) </cite>\n",
    "\n",
    "Statement above applies to algorithm design, but can also be applied on general software development and design."
   ]
  },
  {
   "cell_type": "markdown",
   "id": "boxed-carbon",
   "metadata": {
    "slideshow": {
     "slide_type": "subslide"
    }
   },
   "source": [
    "## Emulate!\n",
    "* Emulate or fake inputs and outputs"
   ]
  },
  {
   "cell_type": "markdown",
   "id": "martial-corps",
   "metadata": {
    "slideshow": {
     "slide_type": "subslide"
    }
   },
   "source": [
    "## Isolate and test\n",
    "* Print statements\n",
    "* Divide into functions\n",
    "* Useful tools such as [cProfile and profile](https://docs.python.org/3/library/profile.html) for determining how often and for how long various parts are run\n",
    "* Use a debugger!"
   ]
  },
  {
   "cell_type": "markdown",
   "id": "celtic-football",
   "metadata": {
    "slideshow": {
     "slide_type": "subslide"
    }
   },
   "source": [
    "## Reuse!\n",
    "* Create functions that do one thing\n",
    "* Suddenly reusable in my other scenarios\n",
    "* \"Never write the same code twice\" - probably not true!"
   ]
  },
  {
   "cell_type": "markdown",
   "id": "compliant-newspaper",
   "metadata": {
    "slideshow": {
     "slide_type": "subslide"
    }
   },
   "source": [
    "## Be mindful of processing power!\n",
    "* Especially DNN can be very computationally expensive to use.\n",
    "* Do we have alternatives? Can the tasks be divided?"
   ]
  },
  {
   "cell_type": "markdown",
   "id": "baking-kidney",
   "metadata": {
    "slideshow": {
     "slide_type": "subslide"
    }
   },
   "source": [
    "## git\n",
    "* Repositories\n",
    "* Branches\n",
    "* gists\n",
    "\n",
    "*All allow for more experimentation!*\n",
    "\n",
    "* Do a pull-request if you happen to find or fix a bug or add a new feature to existing software!"
   ]
  },
  {
   "cell_type": "markdown",
   "id": "comfortable-qatar",
   "metadata": {
    "slideshow": {
     "slide_type": "subslide"
    }
   },
   "source": [
    "## Isolated systems communicating using UDP, OSC or APIs\n",
    "* Decide on an API\n",
    "* Create parts in isolation\n",
    "* Elements become replaceable"
   ]
  },
  {
   "cell_type": "markdown",
   "id": "premier-bubble",
   "metadata": {
    "slideshow": {
     "slide_type": "subslide"
    }
   },
   "source": [
    "## Pick the right tool for the right job.\n",
    "* A lot of frameworks can be useful without having to learn everything.\n",
    "* Going in-depth is, however, often very fruitful\n",
    "* Don't be afraid of new languages"
   ]
  },
  {
   "cell_type": "markdown",
   "id": "challenging-southwest",
   "metadata": {
    "slideshow": {
     "slide_type": "subslide"
    }
   },
   "source": [
    "### The end!\n",
    "- Brief for lab day next time!"
   ]
  }
 ],
 "metadata": {
  "celltoolbar": "Slideshow",
  "kernelspec": {
   "display_name": "Python 3",
   "language": "python",
   "name": "python3"
  },
  "language_info": {
   "codemirror_mode": {
    "name": "ipython",
    "version": 3
   },
   "file_extension": ".py",
   "mimetype": "text/x-python",
   "name": "python",
   "nbconvert_exporter": "python",
   "pygments_lexer": "ipython3",
   "version": "3.9.10"
  }
 },
 "nbformat": 4,
 "nbformat_minor": 5
}
