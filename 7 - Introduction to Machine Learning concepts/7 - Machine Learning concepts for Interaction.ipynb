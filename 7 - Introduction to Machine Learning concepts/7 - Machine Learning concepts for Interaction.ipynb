{
 "cells": [
  {
   "cell_type": "markdown",
   "id": "upset-samoa",
   "metadata": {
    "slideshow": {
     "slide_type": "slide"
    }
   },
   "source": [
    "# IDS #7 - Machine Learning Concepts"
   ]
  },
  {
   "cell_type": "markdown",
   "id": "a4b46c64",
   "metadata": {
    "slideshow": {
     "slide_type": "subslide"
    }
   },
   "source": [
    "## Agenda\n",
    "- General hand-in feedback\n",
    "- Tips on coding style!\n",
    "- Introduction to Machine Learning concepts"
   ]
  },
  {
   "cell_type": "markdown",
   "id": "12b2433f",
   "metadata": {
    "slideshow": {
     "slide_type": "slide"
    }
   },
   "source": [
    "## Hand-in feedback\n",
    "- Clear sources!\n",
    "- Commenting style\n",
    "- Functions\n",
    "- \"Clean code\""
   ]
  },
  {
   "cell_type": "markdown",
   "id": "8554bfcf",
   "metadata": {
    "slideshow": {
     "slide_type": "subslide"
    }
   },
   "source": [
    "- Make sure you present original work! If you use existing code this has to be clear in both the source code and in the report. E.g.\n",
    "\n",
    "```javascript\n",
    "/*\n",
    "This code is modified from Jane's Doe's implementation.\n",
    "github.com/some/repository\n",
    "medium.com/some_article\n",
    "*/\n",
    "```"
   ]
  },
  {
   "cell_type": "markdown",
   "id": "d803b9cb",
   "metadata": {
    "slideshow": {
     "slide_type": "subslide"
    }
   },
   "source": [
    "### Commenting style\n",
    "_The most important concept here is that the code itself is the primary means of commenting and documentation. Within 100 or 1000 lines of code, there is a wealth of opportunity to embed your intended meaning and use context to communicate with your audience._\n",
    "\n",
    "As much as possible work with [self-documenting code](https://en.wikipedia.org/wiki/Self-documenting_code). Explains what's not apparent from the code itself.\n",
    "\n",
    "-> More tips [here](https://mitcommlab.mit.edu/broad/commkit/coding-and-comment-style/)"
   ]
  },
  {
   "cell_type": "markdown",
   "id": "c28ff8d6",
   "metadata": {
    "slideshow": {
     "slide_type": "subslide"
    }
   },
   "source": [
    "#### Example of bad commenting style\n",
    "```python\n",
    "a = 0 # initializes variable a to integer value 0\n",
    "for i in range(10): # for-loop\n",
    "    print(i) # prints i\n",
    "\n",
    "```"
   ]
  },
  {
   "cell_type": "markdown",
   "id": "65ffd5e9",
   "metadata": {
    "slideshow": {
     "slide_type": "subslide"
    }
   },
   "source": [
    "### Why bother about coding style?\n",
    "Code is more often being read than written, therefore readability is important!\n",
    "\n",
    "> A style guide is about consistency. Consistency with this style guide is important. Consistency within a project is more important. Consistency within one module or function is the most important.\n",
    "<quote>PEP 8 — the Style Guide for Python Code</quote>"
   ]
  },
  {
   "cell_type": "markdown",
   "id": "c6b246fd",
   "metadata": {
    "slideshow": {
     "slide_type": "subslide"
    }
   },
   "source": [
    "### Note! Coding styles in Javascript and C++\n",
    "- In C++ and JS we have a lot more varying styles. Some use style guide from bigger tech companies such as [airbnb](https://github.com/airbnb/javascript) or [Google](https://google.github.io/styleguide/jsguide.html) or [Mozilla](https://developer.mozilla.org/en-US/docs/MDN/Guidelines/Code_guidelines/JavaScript).\n",
    "- The most important thing is to be consistent! Don't mix style"
   ]
  },
  {
   "cell_type": "markdown",
   "id": "852f0408",
   "metadata": {
    "slideshow": {
     "slide_type": "subslide"
    }
   },
   "source": [
    "_back to Python style_\n",
    "### `camelCase` or `snake_case`?\n",
    "> Function names should be lowercase, with words separated by underscores as necessary to improve readability. [...] mixedCase is allowed only in contexts where that's already the prevailing style (e.g. threading.py), to retain backwards compatibility.\n",
    "<quote>[PEP 8](https://www.python.org/dev/peps/pep-0008/#function-and-variable-names)</quote>"
   ]
  },
  {
   "cell_type": "markdown",
   "id": "9ff4668d",
   "metadata": {
    "slideshow": {
     "slide_type": "fragment"
    }
   },
   "source": [
    "With new codebases in Python - always do `snake_case`!"
   ]
  },
  {
   "cell_type": "markdown",
   "id": "fiscal-division",
   "metadata": {
    "slideshow": {
     "slide_type": "subslide"
    }
   },
   "source": [
    "### Python Docstrings (commenting functions)\n",
    "In Python we can use triple quotations (`\"\"\"` or `'''`) to create multi-line comments."
   ]
  },
  {
   "cell_type": "code",
   "execution_count": 1,
   "id": "empty-referral",
   "metadata": {
    "slideshow": {
     "slide_type": "fragment"
    }
   },
   "outputs": [
    {
     "name": "stdout",
     "output_type": "stream",
     "text": [
      "0\n"
     ]
    }
   ],
   "source": [
    "'''\n",
    "This line doesn't affect the code\n",
    "multiple lines\n",
    "in\n",
    "comments\n",
    "'''\n",
    "\"\"\" And this line doesn't affect the code \"\"\"\n",
    "a = range(25)\n",
    "print(a[0])"
   ]
  },
  {
   "cell_type": "markdown",
   "id": "distinguished-bandwidth",
   "metadata": {
    "slideshow": {
     "slide_type": "subslide"
    }
   },
   "source": [
    "It's common to use these kinds of comments to comment functions"
   ]
  },
  {
   "cell_type": "code",
   "execution_count": 2,
   "id": "preceding-interface",
   "metadata": {
    "slideshow": {
     "slide_type": "fragment"
    }
   },
   "outputs": [
    {
     "name": "stdout",
     "output_type": "stream",
     "text": [
      "Takes in two numbers, returns their product.\n"
     ]
    }
   ],
   "source": [
    "def multiplier(a, b):\n",
    "    \"\"\"Takes in two numbers, returns their product.\"\"\"\n",
    "    return a*b\n",
    "print(multiplier.__doc__)"
   ]
  },
  {
   "cell_type": "code",
   "execution_count": 3,
   "id": "approximate-scott",
   "metadata": {
    "slideshow": {
     "slide_type": "subslide"
    }
   },
   "outputs": [
    {
     "name": "stdout",
     "output_type": "stream",
     "text": [
      "\n",
      "    Returns the product of two numbers.\n",
      "\n",
      "            Parameters:\n",
      "                    a (int): A decimal integer\n",
      "                    b (int): Another decimal integer\n",
      "\n",
      "            Returns:\n",
      "                    multiplier (int): Integer containing the product of a and b\n",
      "    \n"
     ]
    }
   ],
   "source": [
    "def multiplier(a, b):\n",
    "    '''\n",
    "    Returns the product of two numbers.\n",
    "\n",
    "            Parameters:\n",
    "                    a (int): A decimal integer\n",
    "                    b (int): Another decimal integer\n",
    "\n",
    "            Returns:\n",
    "                    multiplier (int): Integer containing the product of a and b\n",
    "    '''\n",
    "    multiplied = a*b\n",
    "    return multiplied\n",
    "\n",
    "\n",
    "print(multiplier.__doc__)"
   ]
  },
  {
   "cell_type": "markdown",
   "id": "partial-parade",
   "metadata": {
    "slideshow": {
     "slide_type": "subslide"
    }
   },
   "source": [
    "### General coding style tips\n",
    "* Use a formatter!\n",
    "* Consistency is key\n",
    "* Self-documenting code. Minimise comments for the obvious things"
   ]
  },
  {
   "cell_type": "markdown",
   "id": "coordinated-disco",
   "metadata": {
    "slideshow": {
     "slide_type": "subslide"
    }
   },
   "source": [
    "### A `main`-function and/or a `main`-file\n",
    "* Sometimes it can be smart to use multiple files\n",
    "* Below we import [extra_file](extra_file.py)"
   ]
  },
  {
   "cell_type": "code",
   "execution_count": 10,
   "id": "collectible-charge",
   "metadata": {
    "slideshow": {
     "slide_type": "fragment"
    }
   },
   "outputs": [],
   "source": [
    "import extra_file"
   ]
  },
  {
   "cell_type": "code",
   "execution_count": 11,
   "id": "announced-battery",
   "metadata": {
    "slideshow": {
     "slide_type": "fragment"
    }
   },
   "outputs": [
    {
     "name": "stdout",
     "output_type": "stream",
     "text": [
      "\"something\"\n",
      "\"something else\"\n"
     ]
    }
   ],
   "source": [
    "# now we can use the functions in extra_file.py\n",
    "extra_file.print_something()\n",
    "extra_file.print_something_else()"
   ]
  },
  {
   "cell_type": "code",
   "execution_count": 6,
   "id": "narrative-outreach",
   "metadata": {
    "slideshow": {
     "slide_type": "fragment"
    }
   },
   "outputs": [
    {
     "name": "stdout",
     "output_type": "stream",
     "text": [
      "\"something\"\n"
     ]
    }
   ],
   "source": [
    "# we can also use the function without referring to the file\n",
    "from extra_file import print_something\n",
    "print_something()"
   ]
  },
  {
   "cell_type": "code",
   "execution_count": 8,
   "id": "extreme-quebec",
   "metadata": {
    "slideshow": {
     "slide_type": "fragment"
    }
   },
   "outputs": [
    {
     "name": "stdout",
     "output_type": "stream",
     "text": [
      "\"something\"\n"
     ]
    }
   ],
   "source": [
    "# or rename functions on import\n",
    "from extra_file import print_something as fun_function\n",
    "fun_function()"
   ]
  },
  {
   "cell_type": "code",
   "execution_count": 9,
   "id": "lovely-batman",
   "metadata": {
    "slideshow": {
     "slide_type": "fragment"
    }
   },
   "outputs": [
    {
     "name": "stdout",
     "output_type": "stream",
     "text": [
      "True\n",
      "True\n"
     ]
    }
   ],
   "source": [
    "# they all refer to the same function\n",
    "print(fun_function is print_something)\n",
    "print(extra_file.print_something is print_something)"
   ]
  },
  {
   "cell_type": "markdown",
   "id": "beautiful-church",
   "metadata": {
    "slideshow": {
     "slide_type": "subslide"
    }
   },
   "source": [
    "### Tips when using multiple files\n",
    "* Only if necessary (browsing can make it tricky to keep an overview)\n",
    "* Same principle as functions, let one file do one thing (avoid a `misc.py`-file)"
   ]
  },
  {
   "cell_type": "markdown",
   "id": "passive-parameter",
   "metadata": {
    "slideshow": {
     "slide_type": "subslide"
    }
   },
   "source": [
    "#### A `main`-function\n",
    "* It can be good to have a function named `main()` which serves as the point of execution.\n",
    "* Call other functions from this `main()`-function and let it be the main loop.\n"
   ]
  },
  {
   "cell_type": "markdown",
   "id": "peaceful-defensive",
   "metadata": {
    "slideshow": {
     "slide_type": "fragment"
    }
   },
   "source": [
    "*Example:*\n",
    "```python\n",
    "def main():\n",
    "    connect_to_server()\n",
    "    start_graphics()\n",
    "    get_user_input()\n",
    "```"
   ]
  },
  {
   "cell_type": "markdown",
   "id": "connected-joseph",
   "metadata": {
    "slideshow": {
     "slide_type": "subslide"
    }
   },
   "source": [
    "You'll often see this pattern:"
   ]
  },
  {
   "cell_type": "code",
   "execution_count": null,
   "id": "fluid-performance",
   "metadata": {},
   "outputs": [],
   "source": [
    "def main():\n",
    "    print(\"Hello, World!\")\n",
    "    \n",
    "if __name__== \"__main__\" :\n",
    "    main() # is only executed if this file is run by the interpreter aka not on import"
   ]
  },
  {
   "cell_type": "markdown",
   "id": "caring-classroom",
   "metadata": {
    "slideshow": {
     "slide_type": "subslide"
    }
   },
   "source": [
    "Python assigns the variable `__name__` to `\"__main__\"` on what ever file we decide to run. We can thereby check if the file is being imported or run as `\"main\"`."
   ]
  },
  {
   "cell_type": "markdown",
   "id": "fifteen-adult",
   "metadata": {
    "slideshow": {
     "slide_type": "slide"
    }
   },
   "source": [
    "#### Try / Except \n",
    "> Even if a statement or expression is syntactically correct, it may cause an error when an attempt is made to execute it. Errors detected during execution are called exceptions\n",
    ">\n",
    "> [Python docs](https://docs.python.org/3/tutorial/errors.html)\n",
    "\n",
    "\n",
    "* The ```try``` block lets you test a block of code for errors.\n",
    "* The ```except``` block lets you handle the error."
   ]
  },
  {
   "cell_type": "code",
   "execution_count": 19,
   "id": "cross-payday",
   "metadata": {
    "slideshow": {
     "slide_type": "subslide"
    }
   },
   "outputs": [
    {
     "name": "stdout",
     "output_type": "stream",
     "text": [
      "Please enter your age?thirty\n",
      "thirty\n"
     ]
    },
    {
     "ename": "ValueError",
     "evalue": "invalid literal for int() with base 10: 'thirty'",
     "output_type": "error",
     "traceback": [
      "\u001b[0;31m---------------------------------------------------------------------------\u001b[0m",
      "\u001b[0;31mValueError\u001b[0m                                Traceback (most recent call last)",
      "\u001b[0;32m/var/folders/d9/7blg8jn97dq7mstlkpbk6x200000gn/T/ipykernel_38540/1108003682.py\u001b[0m in \u001b[0;36m<module>\u001b[0;34m\u001b[0m\n\u001b[1;32m      2\u001b[0m \u001b[0mprint\u001b[0m\u001b[0;34m(\u001b[0m\u001b[0mage\u001b[0m\u001b[0;34m)\u001b[0m\u001b[0;34m\u001b[0m\u001b[0;34m\u001b[0m\u001b[0m\n\u001b[1;32m      3\u001b[0m \u001b[0;32mtry\u001b[0m\u001b[0;34m:\u001b[0m\u001b[0;34m\u001b[0m\u001b[0;34m\u001b[0m\u001b[0m\n\u001b[0;32m----> 4\u001b[0;31m     \u001b[0;32mif\u001b[0m \u001b[0mint\u001b[0m\u001b[0;34m(\u001b[0m\u001b[0mage\u001b[0m\u001b[0;34m)\u001b[0m \u001b[0;34m>=\u001b[0m \u001b[0;36m18\u001b[0m\u001b[0;34m:\u001b[0m\u001b[0;34m\u001b[0m\u001b[0;34m\u001b[0m\u001b[0m\n\u001b[0m\u001b[1;32m      5\u001b[0m         \u001b[0mprint\u001b[0m \u001b[0;34m(\u001b[0m\u001b[0;34m'You can vote!'\u001b[0m\u001b[0;34m)\u001b[0m\u001b[0;34m\u001b[0m\u001b[0;34m\u001b[0m\u001b[0m\n\u001b[1;32m      6\u001b[0m     \u001b[0;32melse\u001b[0m\u001b[0;34m:\u001b[0m\u001b[0;34m\u001b[0m\u001b[0;34m\u001b[0m\u001b[0m\n",
      "\u001b[0;31mValueError\u001b[0m: invalid literal for int() with base 10: 'thirty'"
     ]
    }
   ],
   "source": [
    "age = input(\"Please enter your age?\")\n",
    "print(age)    \n",
    "try:\n",
    "    if int(age) >= 18:\n",
    "        print ('You can vote!')\n",
    "    else:\n",
    "        print ('Sorry you can\\'t vote')\n",
    "except IndexError:\n",
    "    print(\"Please write as numbers\")"
   ]
  },
  {
   "cell_type": "markdown",
   "id": "lasting-healthcare",
   "metadata": {
    "slideshow": {
     "slide_type": "subslide"
    }
   },
   "source": [
    "##### Raise an Exception"
   ]
  },
  {
   "cell_type": "code",
   "execution_count": 16,
   "id": "golden-pierre",
   "metadata": {},
   "outputs": [
    {
     "ename": "ValueError",
     "evalue": "Sorry, no numbers below zero",
     "output_type": "error",
     "traceback": [
      "\u001b[0;31m---------------------------------------------------------------------------\u001b[0m",
      "\u001b[0;31mValueError\u001b[0m                                Traceback (most recent call last)",
      "\u001b[0;32m/var/folders/d9/7blg8jn97dq7mstlkpbk6x200000gn/T/ipykernel_38540/3597725870.py\u001b[0m in \u001b[0;36m<module>\u001b[0;34m\u001b[0m\n\u001b[1;32m      3\u001b[0m \u001b[0;32mif\u001b[0m \u001b[0mx\u001b[0m \u001b[0;34m<\u001b[0m \u001b[0;36m0\u001b[0m\u001b[0;34m:\u001b[0m\u001b[0;34m\u001b[0m\u001b[0;34m\u001b[0m\u001b[0m\n\u001b[1;32m      4\u001b[0m     \u001b[0;31m#raise Exception(\"Sorry, no numbers below zero\")\u001b[0m\u001b[0;34m\u001b[0m\u001b[0;34m\u001b[0m\u001b[0m\n\u001b[0;32m----> 5\u001b[0;31m     \u001b[0;32mraise\u001b[0m \u001b[0mValueError\u001b[0m\u001b[0;34m(\u001b[0m\u001b[0;34m'Sorry, no numbers below zero'\u001b[0m\u001b[0;34m)\u001b[0m\u001b[0;34m\u001b[0m\u001b[0;34m\u001b[0m\u001b[0m\n\u001b[0m",
      "\u001b[0;31mValueError\u001b[0m: Sorry, no numbers below zero"
     ]
    }
   ],
   "source": [
    "x = -1\n",
    "\n",
    "if x < 0:\n",
    "    #raise Exception(\"Sorry, no numbers below zero\") \n",
    "    raise ValueError('Sorry, no numbers below zero')"
   ]
  },
  {
   "cell_type": "markdown",
   "id": "institutional-karma",
   "metadata": {
    "slideshow": {
     "slide_type": "notes"
    }
   },
   "source": [
    "Best practice in Python is to [not raise generic exceptions](https://stackoverflow.com/questions/2052390/manually-raising-throwing-an-exception-in-python). This allows for specific error handling."
   ]
  },
  {
   "cell_type": "markdown",
   "id": "graduate-venue",
   "metadata": {
    "slideshow": {
     "slide_type": "subslide"
    }
   },
   "source": [
    "##### Error handling best practice\n",
    "_[Robust exception handling in Python](https://eli.thegreenplace.net/2008/08/21/robust-exception-handling/)_\n",
    "* Never use error handling for flow-control.\n",
    "   * Exceptions exist for exceptional situations: events that are not a part of normal execution.\n",
    "* Best careful about catching all exceptions.\n",
    "* Python programming often favours [EAFP](https://docs.python.org/3/glossary.html#term-eafp) (Easier to ask forgiveness than permission) rather than [LBYL](https://docs.python.org/3/glossary.html#term-lbyl) (Look before you leap), which is favoured in e.g. C."
   ]
  },
  {
   "cell_type": "code",
   "execution_count": null,
   "id": "underlying-string",
   "metadata": {
    "slideshow": {
     "slide_type": "subslide"
    }
   },
   "outputs": [],
   "source": [
    "dict_ = {'key2': 2, 'key1': [2.5,200]}\n",
    "\n",
    "# LBYL\n",
    "if \"key\" in dict_:\n",
    "    print(dict[\"key\"])\n",
    "\n",
    "# EAFP\n",
    "try:\n",
    "    print(dict_[\"key\"])\n",
    "except KeyError:\n",
    "    pass"
   ]
  },
  {
   "cell_type": "markdown",
   "id": "20774b73",
   "metadata": {
    "slideshow": {
     "slide_type": "subslide"
    }
   },
   "source": [
    "### `requirements.txt`-file\n",
    "* Consider creating a `requirements.txt`-file if you're using many (or uncommon) packages\n",
    "* Freeze your dependencies if you're using a [virtual environment](https://www.geeksforgeeks.org/python-virtual-environment/)\n",
    "* Makes it easy to revisit old code! ([example](https://github.com/faaip/ESRGAN-slicer))\n",
    "* Also create a `README` file\n"
   ]
  },
  {
   "cell_type": "markdown",
   "id": "close-reservoir",
   "metadata": {
    "slideshow": {
     "slide_type": "subslide"
    }
   },
   "source": [
    "### Exercises at home!\n",
    "- Create an application with a contacts list of contact objects\n",
    "- Add an input() that allow the user to view and add contacts\n",
    "- Exceptions:\n",
    "    - If the user is not using only numbers for phonenumber raise an exception\n",
    "    - If the email doesn't include '@' raise an exception\n",
    "    - if searching for an contact that doesn't exist raise an exception\n",
    "- Exception handling:\n",
    "    the user of the application should never see the exceptions - handle the exceptions internally by asking the user for\n",
    "- Save the contacts as JSON-file."
   ]
  },
  {
   "cell_type": "markdown",
   "id": "defined-commercial",
   "metadata": {
    "slideshow": {
     "slide_type": "slide"
    }
   },
   "source": [
    "![alt text](images/change_my_mind.jpg)"
   ]
  },
  {
   "cell_type": "markdown",
   "id": "d2b86cbf",
   "metadata": {
    "slideshow": {
     "slide_type": "slide"
    }
   },
   "source": [
    "## Introduction to Machine Learning concepts"
   ]
  },
  {
   "cell_type": "markdown",
   "id": "original-portrait",
   "metadata": {
    "slideshow": {
     "slide_type": "subslide"
    }
   },
   "source": [
    "### Agenda\n",
    "* Machine Learning\n",
    "    * Supervised Learning\n",
    "    * Unsupervised Learning\n",
    "    * Reinforcement Learning\n",
    "* Neural Networks\n",
    "* Experimentation with CNN using Teachable machines"
   ]
  },
  {
   "cell_type": "markdown",
   "id": "silent-cover",
   "metadata": {
    "slideshow": {
     "slide_type": "slide"
    }
   },
   "source": [
    "## Machine Learning\n",
    "Machine Learning is algorithms that improve/learn through through experience and/or use of data.\n",
    "> [...] a part of artificial intelligence. Machine learning algorithms build a model based on sample data, known as \"training data\", in order to make predictions or decisions without being explicitly programmed to do so\n",
    ">\n",
    "> -- <cite>[Machine Learning - Wikipedia](https://en.wikipedia.org/wiki/Machine_learning)</cite>"
   ]
  },
  {
   "cell_type": "markdown",
   "id": "athletic-apollo",
   "metadata": {
    "slideshow": {
     "slide_type": "subslide"
    }
   },
   "source": [
    "### Background\n",
    "* Machine learning grew out of (/ is a part of) the field of artificial intelligence (AI).\n",
    "* While other types of AI do exist, machine learning is the main one going forward.\n",
    "* With the increase of available digital data, new techniques and faster computing techniques, it has progressed immensely."
   ]
  },
  {
   "cell_type": "markdown",
   "id": "b896280d",
   "metadata": {
    "slideshow": {
     "slide_type": "subslide"
    }
   },
   "source": [
    "## Why ML?"
   ]
  },
  {
   "cell_type": "markdown",
   "id": "accepting-office",
   "metadata": {
    "slideshow": {
     "slide_type": "subslide"
    }
   },
   "source": [
    "### Types of Machine Learning\n",
    "* Supervised learning\n",
    "* Unsupervised learning\n",
    "* Reinforcement learning"
   ]
  },
  {
   "cell_type": "markdown",
   "id": "theoretical-tobago",
   "metadata": {
    "slideshow": {
     "slide_type": "subslide"
    }
   },
   "source": [
    "### Supervised learning\n",
    "Supervised learning is having a function $f$ that maps a specific input $X$ to an output $Y$.\n",
    "\n",
    "$Y = f(X)$\n",
    "\n",
    "A supervised learning algorithm learns from training data."
   ]
  },
  {
   "cell_type": "markdown",
   "id": "valuable-wells",
   "metadata": {
    "slideshow": {
     "slide_type": "subslide"
    }
   },
   "source": [
    "#### Classification and regression\n",
    "![alt text](images/Classification-vs-Regression.png)\n",
    "Classification predicts a discrete class while the predicting of regression is continuous."
   ]
  },
  {
   "cell_type": "markdown",
   "id": "normal-nation",
   "metadata": {
    "slideshow": {
     "slide_type": "subslide"
    }
   },
   "source": [
    "#### Training data\n",
    "Training data usually comes in pairs:\n",
    "* Input data ($X$)  : a vector of values\n",
    "* Output data ($y$) : desired output value"
   ]
  },
  {
   "cell_type": "markdown",
   "id": "middle-logic",
   "metadata": {
    "slideshow": {
     "slide_type": "subslide"
    }
   },
   "source": [
    "#### Thought exercise - 15 min\n",
    "* Think about tasks that are solved or could be solved with machine learning and write them down.\n",
    "* What is the input and output data for these tasks?\n",
    "* Is the task regression or classification?"
   ]
  },
  {
   "cell_type": "markdown",
   "id": "rapid-opinion",
   "metadata": {
    "slideshow": {
     "slide_type": "subslide"
    }
   },
   "source": [
    "#### Examples\n",
    "* Recognising images of flowers (lilies or roses) - binary classification\n",
    "    * Input - images of flowers, output - flower type (string)\n",
    "* Speech recognition\n",
    "    * Input audio, output: predicted word (string)\n",
    "* Weather prediction\n",
    "    * sensor data (pressure, temperature), output: weather forecast\n",
    "* Flood warning in dams\n",
    "    * Input: current water levels and rain forecasting\n",
    "    * Output: Regression - chance of flood or water levels\n",
    "* Classifying hate speech:\n",
    "    * Training data: examples of hate speech in different categories.\n",
    "    * Y (output) : type of hate speech\n",
    "* Music recommendation systems\n",
    "    * Input: previous listening history, \n",
    "    * Output: suggested songs"
   ]
  },
  {
   "cell_type": "markdown",
   "id": "pacific-difficulty",
   "metadata": {
    "slideshow": {
     "slide_type": "subslide"
    }
   },
   "source": [
    "#### Learning (No free lunch theorem)\n",
    "There are many different machine learning algorithms and not one which is the best for all problems...\n",
    "\n",
    "> In computational complexity and optimization the no free lunch theorem is a result that states that for certain types of mathematical problems, the computational cost of finding a solution, averaged over all problems in the class, is the same for any solution method. No solution therefore offers a \"short cut\". \n",
    ">\n",
    "> <cite>[No free lunch in search and optimization (wiki)](https://en.wikipedia.org/wiki/No_free_lunch_in_search_and_optimization)</cite>"
   ]
  },
  {
   "cell_type": "markdown",
   "id": "infrared-pendant",
   "metadata": {
    "slideshow": {
     "slide_type": "subslide"
    }
   },
   "source": [
    "#### Common supervised learning algorithms\n",
    "Such as Linear Regression, Decision Tree, Random Forest, $k$ Nearest Neighbour ($k$-nn), Logistic Regression, Neural Networks etc."
   ]
  },
  {
   "cell_type": "markdown",
   "id": "incorporate-lease",
   "metadata": {
    "slideshow": {
     "slide_type": "subslide"
    }
   },
   "source": [
    "#### _k_-Nearest Neighbours\n",
    "Deciding on a classification by seeing the class of the \"neighbours\".\n",
    "\n",
    "![alt text](images/knn.png)"
   ]
  },
  {
   "cell_type": "markdown",
   "id": "plain-litigation",
   "metadata": {
    "slideshow": {
     "slide_type": "subslide"
    }
   },
   "source": [
    "#### _k_-Nearest Neighbours pseudocode\n",
    "1. Calculate “d(x, xi)” i =1, 2, ….., n; where d denotes the Euclidean distance between the points. (_note:_ other types of distance metrics could be  used)\n",
    "2. Arrange the calculated n Euclidean distances in non-decreasing order.\n",
    "3. Let _k_ be a positive integer, take the first _k_ distances from this sorted list.\n",
    "4. Find those k-points corresponding to these k-distances.\n",
    "5. Let ki denotes the number of points belonging to the ith class among k points i.e. k ≥ 0\n",
    "6. If ki >kj ∀ i ≠ j then put x in class i.\n",
    "\n",
    "_Pseudocode from [Sonish Sivarajkumar](https://medium.com/@sonish.sivarajkumar/k-nearest-neighbours-knn-algorithm-9900c1427726)_"
   ]
  },
  {
   "cell_type": "markdown",
   "id": "ed1cbd72",
   "metadata": {
    "slideshow": {
     "slide_type": "subslide"
    }
   },
   "source": [
    "#### Knn example\n",
    "[Link](https://martin-thoma.com/k-nearest-neighbor-classification-interactive-example/)"
   ]
  },
  {
   "cell_type": "markdown",
   "id": "caring-ensemble",
   "metadata": {
    "slideshow": {
     "slide_type": "subslide"
    }
   },
   "source": [
    "#### _k_-Nearest Neighbours the curse of dimensionality\n",
    "With each added number of dimensions, the data space increase and we need more data to [maintain density](https://www.cs.cornell.edu/courses/cs4780/2018fa/lectures/lecturenote02_kNN.html).\n",
    "\n",
    "\n",
    "![alt text](images/curse.gif)"
   ]
  },
  {
   "cell_type": "markdown",
   "id": "fa00edf3",
   "metadata": {
    "slideshow": {
     "slide_type": "subslide"
    }
   },
   "source": [
    "#### _k_-NN pros and cons\n",
    "Pros:\n",
    "* Easy, no explicit training, constantly evolving\n",
    "\n",
    "Cons:\n",
    "* Slow (speed and efficiency declines with dataset size increase)\n",
    "* How to choose $k$?"
   ]
  },
  {
   "cell_type": "markdown",
   "id": "handy-walker",
   "metadata": {
    "slideshow": {
     "slide_type": "subslide"
    }
   },
   "source": [
    "### _k_-NN implementation\n",
    "[Scikit-learn](https://scikit-learn.org/stable/index.html) has nice implementations of a lot of common simpler models - including [nearest neighbors](https://scikit-learn.org/stable/modules/neighbors.html)!"
   ]
  },
  {
   "cell_type": "markdown",
   "id": "resistant-flood",
   "metadata": {
    "slideshow": {
     "slide_type": "subslide"
    }
   },
   "source": [
    "#### Disclaimer!\n",
    "* $k$-NN is one of the simplest types of ML algorithms and does not represent the general complexity of ML.\n",
    "* Can however be used to understand a general workflow for some forms of classification.\n",
    "* Always chose the right algorithms for the right job! (It's a matter of research, complexity and experimentation) \n",
    "    * [You can compare classifiers](https://scikit-learn.org/stable/auto_examples/classification/plot_classifier_comparison.html)"
   ]
  },
  {
   "cell_type": "markdown",
   "id": "54753d80",
   "metadata": {
    "slideshow": {
     "slide_type": "subslide"
    }
   },
   "source": [
    "#### Supervised learning sum up\n",
    "* Classification (predicting in discrete classes) or regression (output is a continous variable).\n",
    "* Works with labelled data for training.\n",
    "* Many different kinds of algorithms for SL including k-nn, logistic regression, random forests and so on."
   ]
  },
  {
   "cell_type": "markdown",
   "id": "deadly-sheriff",
   "metadata": {
    "slideshow": {
     "slide_type": "subslide"
    }
   },
   "source": [
    "### Unsupervised learning\n",
    "> Unsupervised learning (UL) is a type of algorithm that learns patterns from untagged data. The hope is that through mimicry, the machine is forced to build a compact internal representation of its world.\n",
    ">\n",
    "> <cite> [Unsupervised Learning (wiki)](https://en.wikipedia.org/wiki/Unsupervised_learning)</cite>"
   ]
  },
  {
   "cell_type": "markdown",
   "id": "developmental-adrian",
   "metadata": {
    "slideshow": {
     "slide_type": "subslide"
    }
   },
   "source": [
    "### Unsupervised learning in Interactive Digital Systems\n",
    "Unsupervised learning is useful for clustering - useful for dealing with unlabelled data!\n",
    "\n",
    "- [t-SNE bird sounds](https://experiments.withgoogle.com/ai/bird-sounds/view/)"
   ]
  },
  {
   "cell_type": "markdown",
   "id": "fitting-royal",
   "metadata": {
    "slideshow": {
     "slide_type": "subslide"
    }
   },
   "source": [
    "### Reinforcement learning\n",
    "Works with agents that learn by taking actions in an environment and attempting to maximize reward. This is done through trial and error in the physical or virtual environment that the agent interacts in."
   ]
  },
  {
   "cell_type": "markdown",
   "id": "manual-seafood",
   "metadata": {
    "slideshow": {
     "slide_type": "subslide"
    }
   },
   "source": [
    "### Reinforcement learning examples\n",
    "_Fill in during lecture_"
   ]
  },
  {
   "cell_type": "markdown",
   "id": "laughing-green",
   "metadata": {
    "slideshow": {
     "slide_type": "subslide"
    }
   },
   "source": [
    "![alt text](images/walker_1.gif)"
   ]
  },
  {
   "cell_type": "markdown",
   "id": "imposed-tongue",
   "metadata": {
    "slideshow": {
     "slide_type": "subslide"
    }
   },
   "source": [
    "## Neural networks!\n",
    "Neural networks are algorithms that mimic the operations of the human body's neural network. Neural networks are now very popular for a wide variety of problems.\n",
    "\n",
    "Neural networks can be used for supervised, unsupervised and reinforcement learning."
   ]
  },
  {
   "cell_type": "markdown",
   "id": "rubber-plymouth",
   "metadata": {
    "slideshow": {
     "slide_type": "subslide"
    }
   },
   "source": [
    "### Why neural networks?\n",
    "* Neural Networks can approximate any continuous function.\n",
    "* This allows us to create network that can accomplish things that we didn't think we're possible before."
   ]
  },
  {
   "cell_type": "markdown",
   "id": "tribal-alarm",
   "metadata": {
    "slideshow": {
     "slide_type": "subslide"
    }
   },
   "source": [
    "### A Neuron\n",
    "![alt text](images/neuron.png)\n"
   ]
  },
  {
   "cell_type": "markdown",
   "id": "statistical-comparison",
   "metadata": {
    "slideshow": {
     "slide_type": "fragment"
    }
   },
   "source": [
    "\n",
    "$\\LARGE f(x_1,x_2)=w_1x_1+w_2x_2$\n",
    "\n",
    "* Gets inputs, does mathematical operations and outputs a number.\n",
    "* Formula is a linear combination. Takes inputs, multiplies by weights and sum ([more info](https://towardsdatascience.com/how-do-we-train-neural-networks-edd985562b73))"
   ]
  },
  {
   "cell_type": "markdown",
   "id": "unexpected-hunter",
   "metadata": {
    "slideshow": {
     "slide_type": "subslide"
    }
   },
   "source": [
    "#### Activation functions\n",
    "- Often activation functions are used. Sigmoids and relu are common and inspired by biological neural networks\n",
    "- Activation functions can shoot (either they \"fire\" or they don't)\n",
    "    - Common activation functions are [ReLU](https://en.wikipedia.org/wiki/Rectifier_(neural_networks)) or [Sigmoid](https://en.wikipedia.org/wiki/Sigmoid_function)"
   ]
  },
  {
   "cell_type": "markdown",
   "id": "rental-billy",
   "metadata": {
    "slideshow": {
     "slide_type": "subslide"
    }
   },
   "source": [
    "### Network - architectures\n",
    "![alt text](images/ann_architecture.png)"
   ]
  },
  {
   "cell_type": "markdown",
   "id": "ranking-netscape",
   "metadata": {
    "slideshow": {
     "slide_type": "subslide"
    }
   },
   "source": [
    "### Network - training\n",
    "* Training is done by processing the difference between prediction and target output (truth) for supervised learning.\n",
    "* Setting appropriate weights.\n",
    "* Gradient descent - $\\theta_n$ is the weight - $J(\\theta)$ is cost function.\n",
    "\n",
    "![alt text](images/bumpy_gradient_descent.png)\n",
    "_Source: [Andrew Ng](http://www.holehouse.org/mlclass/01_02_Introduction_regression_analysis_and_gr.html)_"
   ]
  },
  {
   "cell_type": "markdown",
   "id": "aware-lying",
   "metadata": {
    "slideshow": {
     "slide_type": "subslide"
    }
   },
   "source": [
    "### Neural Network example\n",
    "- [NN example](https://playground.tensorflow.org/#activation=relu&batchSize=10&dataset=xor&regDataset=reg-plane&learningRate=0.03&regularizationRate=0&noise=0&networkShape=4,4,2&seed=0.57526&showTestData=false&discretize=false&percTrainData=50&x=true&y=true&xTimesY=false&xSquared=false&ySquared=false&cosX=false&sinX=false&cosY=false&sinY=false&collectStats=false&problem=classification&initZero=false&hideText=false)\n",
    "\n",
    "(4-4-2)"
   ]
  },
  {
   "cell_type": "markdown",
   "id": "amber-wesley",
   "metadata": {
    "slideshow": {
     "slide_type": "subslide"
    }
   },
   "source": [
    "### Deep Neural Networks (Deep Learning)\n",
    "* If you keep stacking you'll get a deep neural network, known as deep learning!"
   ]
  },
  {
   "cell_type": "markdown",
   "id": "chubby-reserve",
   "metadata": {
    "slideshow": {
     "slide_type": "fragment"
    }
   },
   "source": [
    "![alt text](images/dnn_architectures.png)"
   ]
  },
  {
   "cell_type": "markdown",
   "id": "developed-graphics",
   "metadata": {
    "slideshow": {
     "slide_type": "subslide"
    }
   },
   "source": [
    "## Machine Learning and Interaction\n",
    "* Image recognition\n",
    "* Pose estimation\n",
    "* Gesture recognition\n",
    "* Object detection\n",
    "* Speech recognition"
   ]
  },
  {
   "cell_type": "markdown",
   "id": "frequent-knife",
   "metadata": {
    "slideshow": {
     "slide_type": "subslide"
    }
   },
   "source": [
    "### Image recognition!\n",
    "![alt text](images/nn_cat.jpg)"
   ]
  },
  {
   "cell_type": "markdown",
   "id": "inappropriate-depth",
   "metadata": {
    "slideshow": {
     "slide_type": "subslide"
    }
   },
   "source": [
    "![alt text](images/fer.gif)"
   ]
  },
  {
   "cell_type": "markdown",
   "id": "threaded-inside",
   "metadata": {
    "slideshow": {
     "slide_type": "subslide"
    }
   },
   "source": [
    "![alt text](images/handpose.gif)"
   ]
  },
  {
   "cell_type": "markdown",
   "id": "invalid-acting",
   "metadata": {
    "slideshow": {
     "slide_type": "subslide"
    }
   },
   "source": [
    "### Object detection!\n",
    "![alt text](images/yolov3.gif)"
   ]
  },
  {
   "cell_type": "markdown",
   "id": "vertical-turning",
   "metadata": {
    "slideshow": {
     "slide_type": "subslide"
    }
   },
   "source": [
    "### [Multivocal](https://multivocal.org/)\n",
    "> [multi’vocal] is an ever-evolving non-binary synthesized voice created by a (digital) community of participants with different age, gender, and geographical origin. We seek to create an open source and participatory alternative to the proprietary voices with singular identities.\n"
   ]
  },
  {
   "cell_type": "markdown",
   "id": "scientific-stationery",
   "metadata": {
    "slideshow": {
     "slide_type": "fragment"
    }
   },
   "source": [
    "* Create an installation where people record voice samples\n",
    "* Uploaded to a server using TCP\n",
    "* Create new synthetic speech using a [Tacotron 2 Network](https://google.github.io/tacotron/publications/tacotron2/)"
   ]
  },
  {
   "cell_type": "markdown",
   "id": "ac5937d8",
   "metadata": {
    "slideshow": {
     "slide_type": "subslide"
    }
   },
   "source": [
    "* Training data (audio - string pairs)"
   ]
  },
  {
   "cell_type": "markdown",
   "id": "infectious-collins",
   "metadata": {
    "slideshow": {
     "slide_type": "subslide"
    }
   },
   "source": [
    "### Resources\n",
    "##### Machine Learning and Interaction\n",
    "* [RunwayML (UDP Socket)](https://runwayml.com/)\n",
    "* [Machine Learning for Artists (Python, JS, OFX (C++)](https://ml4a.github.io/)\n",
    "* [ml5.js (Javascript)](https://ml5js.org/)\n",
    "* [Machine Learning for Musicians and Artists](https://www.kadenze.com/courses/machine-learning-for-musicians-and-artists/info)\n",
    "\n",
    "##### General machine learning\n",
    "* [Andrew Ng's Coursera Course](https://www.coursera.org/learn/machine-learning)\n",
    "* [scikit-learn Tutorials](https://scikit-learn.org/stable/tutorial/index.html)\n",
    "* [Tutorials | TensorFlow Core](https://www.tensorflow.org/tutorials)\n"
   ]
  },
  {
   "cell_type": "markdown",
   "id": "d6945008",
   "metadata": {
    "slideshow": {
     "slide_type": "subslide"
    }
   },
   "source": [
    "## Integrating Machine Learning in Interaction design\n",
    "* Isolate the ML elements!\n",
    "* Communicate with UDP messages (sometimes using [OSC](http://opensoundcontrol.org/))\n",
    "* Often using pre-trained models or transfer learning"
   ]
  },
  {
   "cell_type": "markdown",
   "id": "a6a4c35b",
   "metadata": {
    "slideshow": {
     "slide_type": "slide"
    }
   },
   "source": [
    "# Summary\n",
    "* Machine Learning is algorithms that improve automatically through the use of data\n",
    "* Types of ML (Supervised Learning, Unsupervised Learning and reinforcement learning) \n",
    "    * Supervised Learning works with either classification or regression where we work with labeled data.\n",
    "    * Unsupervised learning learns patterns in unlabelled data.\n",
    "    * Reinforcement learning focuses agents learning in environments attempting to decide on actions and maximize reward\n",
    "* Neural Networks\n",
    "    * A sufficiently deep NN can approximate any continous function.\n",
    "* Deep Learning and CNN"
   ]
  },
  {
   "cell_type": "markdown",
   "id": "corresponding-encyclopedia",
   "metadata": {
    "slideshow": {
     "slide_type": "slide"
    }
   },
   "source": [
    "# Teachable Machines\n",
    "### [Demo](https://teachablemachine.withgoogle.com/)"
   ]
  },
  {
   "cell_type": "markdown",
   "id": "looking-master",
   "metadata": {
    "slideshow": {
     "slide_type": "slide"
    }
   },
   "source": [
    "# Teachable Machines exercise start\n",
    "* Train an image recognition model with 2+ classes using [Teachable Machine](https://teachablemachine.withgoogle.com/)\n",
    "* Explore it's stability!\n",
    "    * How does it handle different kinds of lighting, rotation, scaling?\n",
    "    * Can you make it recognise different objects as the same class? (e.g. recognising different kinds of cups, pencils, hats, etc..)\n",
    "* Use TeachableMachines to download the trained model and try out the code in Python. Look how we do prediction, how can we get the prediction with the second highest confidence."
   ]
  }
 ],
 "metadata": {
  "celltoolbar": "Slideshow",
  "kernelspec": {
   "display_name": "Python 3 (ipykernel)",
   "language": "python",
   "name": "python3"
  },
  "language_info": {
   "codemirror_mode": {
    "name": "ipython",
    "version": 3
   },
   "file_extension": ".py",
   "mimetype": "text/x-python",
   "name": "python",
   "nbconvert_exporter": "python",
   "pygments_lexer": "ipython3",
   "version": "3.9.7"
  }
 },
 "nbformat": 4,
 "nbformat_minor": 5
}
